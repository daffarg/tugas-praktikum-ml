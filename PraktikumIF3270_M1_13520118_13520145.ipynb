{
 "cells": [
  {
   "cell_type": "markdown",
   "metadata": {},
   "source": [
    "# Prediksi Hujan di Denpasar"
   ]
  },
  {
   "attachments": {},
   "cell_type": "markdown",
   "metadata": {},
   "source": [
    "Praktikum ini menggunakan _dataset_ [Denpasar Weather Data](https://www.kaggle.com/datasets/cornflake15/denpasarbalihistoricalweatherdata?select=openweatherdata-denpasar-1990-2020v0.1.csv) dengan modifikasi. _Dataset_ digunakan untuk melakukan prediksi penarikan kesimpulan kebenaran kondisi hujan pada kondisi tertentu. Hal itu diperoleh dengan meninjau `raining` (diekstrak dari `weather_main`) sebagai target. Fitur yang digunakan adalah sebagai berikut:\n",
    "- `hour` (diekstrak dari `dt_iso`)\n",
    "- `temp`\n",
    "- `temp_min`\n",
    "- `temp_max`\n",
    "- `pressure`\n",
    "- `humidity`\n",
    "- `wind_speed`\n",
    "- `wind_deg`\n",
    "\n",
    "Tujuan praktikum:\n",
    "1.   Peserta memahami rangkaian proses analitik data menggunakan pendekatan pembelajaran mesin. \n",
    "2.   Peserta memahami bahwa proses pengembangan model pembelajaran mesin juga ditentukan dari kualitas data, penanganan data, dan penentuan algoritma serta hiperparameternya; tidak cukup hanya dengan memastikan implementasi algoritma berjalan tanpa kesalahan.\n",
    "3.   Peserta mampu menginterpretasikan hasil dari evaluasi model dalam proses analitik menggunakan pendekatan pembelajaran mesin.\n",
    "\n",
    "Praktikum dilaksanakan secara berkelompok. Setiap kelompok terdiri atas 2 mahasiswa. Perhatikan bahwa terdapat berkas yang harus dikumpulkan sebelum waktu praktikum selesai (17 April 2023, pukul 10.59 WIB) dan berkas yang dikumpulkan setelah waktu praktikum selesai (17 April 2023, pukul 23.59 WIB)."
   ]
  },
  {
   "attachments": {},
   "cell_type": "markdown",
   "metadata": {},
   "source": [
    "## 1. 13520118 - Mohamad Daffa Argakoesoemah\n",
    "## 2. 13520145 - Steven Gianmarg H.S."
   ]
  },
  {
   "cell_type": "markdown",
   "metadata": {},
   "source": [
    "# Persiapan Data"
   ]
  },
  {
   "cell_type": "code",
   "execution_count": 28,
   "metadata": {},
   "outputs": [],
   "source": [
    "import pandas as pd\n",
    "import numpy as np\n",
    "import seaborn as sns\n",
    "from sklearn.model_selection import train_test_split, GridSearchCV\n",
    "from sklearn.linear_model import LogisticRegression\n",
    "from sklearn.metrics import *\n",
    "from scipy.stats import pearsonr as p_value\n",
    "from scipy import stats\n",
    "import matplotlib.pyplot as plt\n",
    "from sklearn.model_selection import cross_val_score\n",
    "from sklearn.preprocessing import LabelEncoder\n",
    "# from imblearn.over_sampling import RandomOverSampler\n",
    "# from imblearn.under_sampling import RandomUnderSampler\n",
    "from sklearn.ensemble import VotingClassifier, StackingClassifier\n",
    "\n",
    "from sklearn.svm import SVC"
   ]
  },
  {
   "cell_type": "code",
   "execution_count": 3,
   "metadata": {},
   "outputs": [
    {
     "data": {
      "text/html": [
       "<div>\n",
       "<style scoped>\n",
       "    .dataframe tbody tr th:only-of-type {\n",
       "        vertical-align: middle;\n",
       "    }\n",
       "\n",
       "    .dataframe tbody tr th {\n",
       "        vertical-align: top;\n",
       "    }\n",
       "\n",
       "    .dataframe thead th {\n",
       "        text-align: right;\n",
       "    }\n",
       "</style>\n",
       "<table border=\"1\" class=\"dataframe\">\n",
       "  <thead>\n",
       "    <tr style=\"text-align: right;\">\n",
       "      <th></th>\n",
       "      <th>hour</th>\n",
       "      <th>temp</th>\n",
       "      <th>temp_min</th>\n",
       "      <th>temp_max</th>\n",
       "      <th>pressure</th>\n",
       "      <th>humidity</th>\n",
       "      <th>wind_speed</th>\n",
       "      <th>wind_deg</th>\n",
       "      <th>raining</th>\n",
       "    </tr>\n",
       "  </thead>\n",
       "  <tbody>\n",
       "    <tr>\n",
       "      <th>0</th>\n",
       "      <td>0</td>\n",
       "      <td>25.82</td>\n",
       "      <td>25.82</td>\n",
       "      <td>25.82</td>\n",
       "      <td>1010.0</td>\n",
       "      <td>86</td>\n",
       "      <td>1.36</td>\n",
       "      <td>225</td>\n",
       "      <td>True</td>\n",
       "    </tr>\n",
       "    <tr>\n",
       "      <th>1</th>\n",
       "      <td>1</td>\n",
       "      <td>26.20</td>\n",
       "      <td>26.20</td>\n",
       "      <td>26.20</td>\n",
       "      <td>1011.0</td>\n",
       "      <td>84</td>\n",
       "      <td>2.09</td>\n",
       "      <td>247</td>\n",
       "      <td>True</td>\n",
       "    </tr>\n",
       "    <tr>\n",
       "      <th>2</th>\n",
       "      <td>2</td>\n",
       "      <td>26.45</td>\n",
       "      <td>26.45</td>\n",
       "      <td>26.45</td>\n",
       "      <td>1011.0</td>\n",
       "      <td>84</td>\n",
       "      <td>2.44</td>\n",
       "      <td>262</td>\n",
       "      <td>True</td>\n",
       "    </tr>\n",
       "    <tr>\n",
       "      <th>3</th>\n",
       "      <td>3</td>\n",
       "      <td>26.80</td>\n",
       "      <td>26.80</td>\n",
       "      <td>26.80</td>\n",
       "      <td>1011.0</td>\n",
       "      <td>82</td>\n",
       "      <td>2.29</td>\n",
       "      <td>271</td>\n",
       "      <td>True</td>\n",
       "    </tr>\n",
       "    <tr>\n",
       "      <th>4</th>\n",
       "      <td>4</td>\n",
       "      <td>27.04</td>\n",
       "      <td>27.04</td>\n",
       "      <td>27.04</td>\n",
       "      <td>1010.0</td>\n",
       "      <td>82</td>\n",
       "      <td>1.71</td>\n",
       "      <td>274</td>\n",
       "      <td>False</td>\n",
       "    </tr>\n",
       "    <tr>\n",
       "      <th>...</th>\n",
       "      <td>...</td>\n",
       "      <td>...</td>\n",
       "      <td>...</td>\n",
       "      <td>...</td>\n",
       "      <td>...</td>\n",
       "      <td>...</td>\n",
       "      <td>...</td>\n",
       "      <td>...</td>\n",
       "      <td>...</td>\n",
       "    </tr>\n",
       "    <tr>\n",
       "      <th>264919</th>\n",
       "      <td>19</td>\n",
       "      <td>27.00</td>\n",
       "      <td>27.00</td>\n",
       "      <td>27.00</td>\n",
       "      <td>1007.0</td>\n",
       "      <td>94</td>\n",
       "      <td>4.10</td>\n",
       "      <td>300</td>\n",
       "      <td>False</td>\n",
       "    </tr>\n",
       "    <tr>\n",
       "      <th>264920</th>\n",
       "      <td>20</td>\n",
       "      <td>27.00</td>\n",
       "      <td>27.00</td>\n",
       "      <td>27.00</td>\n",
       "      <td>1007.0</td>\n",
       "      <td>94</td>\n",
       "      <td>5.70</td>\n",
       "      <td>300</td>\n",
       "      <td>False</td>\n",
       "    </tr>\n",
       "    <tr>\n",
       "      <th>264921</th>\n",
       "      <td>21</td>\n",
       "      <td>28.00</td>\n",
       "      <td>28.00</td>\n",
       "      <td>28.00</td>\n",
       "      <td>1007.0</td>\n",
       "      <td>83</td>\n",
       "      <td>6.70</td>\n",
       "      <td>290</td>\n",
       "      <td>False</td>\n",
       "    </tr>\n",
       "    <tr>\n",
       "      <th>264922</th>\n",
       "      <td>22</td>\n",
       "      <td>28.00</td>\n",
       "      <td>28.00</td>\n",
       "      <td>28.00</td>\n",
       "      <td>1007.0</td>\n",
       "      <td>83</td>\n",
       "      <td>6.20</td>\n",
       "      <td>290</td>\n",
       "      <td>False</td>\n",
       "    </tr>\n",
       "    <tr>\n",
       "      <th>264923</th>\n",
       "      <td>23</td>\n",
       "      <td>28.00</td>\n",
       "      <td>28.00</td>\n",
       "      <td>28.00</td>\n",
       "      <td>1008.0</td>\n",
       "      <td>83</td>\n",
       "      <td>5.70</td>\n",
       "      <td>300</td>\n",
       "      <td>False</td>\n",
       "    </tr>\n",
       "  </tbody>\n",
       "</table>\n",
       "<p>264924 rows × 9 columns</p>\n",
       "</div>"
      ],
      "text/plain": [
       "        hour   temp  temp_min  temp_max  pressure  humidity  wind_speed  \\\n",
       "0          0  25.82     25.82     25.82    1010.0        86        1.36   \n",
       "1          1  26.20     26.20     26.20    1011.0        84        2.09   \n",
       "2          2  26.45     26.45     26.45    1011.0        84        2.44   \n",
       "3          3  26.80     26.80     26.80    1011.0        82        2.29   \n",
       "4          4  27.04     27.04     27.04    1010.0        82        1.71   \n",
       "...      ...    ...       ...       ...       ...       ...         ...   \n",
       "264919    19  27.00     27.00     27.00    1007.0        94        4.10   \n",
       "264920    20  27.00     27.00     27.00    1007.0        94        5.70   \n",
       "264921    21  28.00     28.00     28.00    1007.0        83        6.70   \n",
       "264922    22  28.00     28.00     28.00    1007.0        83        6.20   \n",
       "264923    23  28.00     28.00     28.00    1008.0        83        5.70   \n",
       "\n",
       "        wind_deg  raining  \n",
       "0            225     True  \n",
       "1            247     True  \n",
       "2            262     True  \n",
       "3            271     True  \n",
       "4            274    False  \n",
       "...          ...      ...  \n",
       "264919       300    False  \n",
       "264920       300    False  \n",
       "264921       290    False  \n",
       "264922       290    False  \n",
       "264923       300    False  \n",
       "\n",
       "[264924 rows x 9 columns]"
      ]
     },
     "execution_count": 3,
     "metadata": {},
     "output_type": "execute_result"
    }
   ],
   "source": [
    "data = pd.read_csv(\"openweatherdata-denpasar-1990-2020v0.1-simplified.csv\")\n",
    "data"
   ]
  },
  {
   "cell_type": "code",
   "execution_count": 4,
   "metadata": {
    "scrolled": false
   },
   "outputs": [],
   "source": [
    "X = data.drop(columns=\"raining\")\n",
    "y = data[\"raining\"].copy()\n",
    "\n",
    "X_train, X_test, y_train, y_test = train_test_split(X, y, test_size=0.2, random_state=123)\n",
    "X_train, X_val, y_train, y_val = train_test_split(X_train, y_train, test_size=0.2, random_state=123)\n",
    "flag = False\n",
    "X_train_lama = X_train\n",
    "df_train = pd.concat([X_train, y_train], axis=1)\n",
    "df_val = pd.concat([X_val, y_val], axis=1)\n",
    "df_test = pd.concat([X_test, y_test], axis=1)"
   ]
  },
  {
   "cell_type": "markdown",
   "metadata": {},
   "source": [
    "# Soal"
   ]
  },
  {
   "attachments": {},
   "cell_type": "markdown",
   "metadata": {},
   "source": [
    "Disediakan data yang sudah dibagi menjadi data latih (`df_train`), data validasi (`df_val`), dan data uji (`df_test`).\n",
    "\n",
    "**Bagian 1**: (batas waktu: 17 April 2023, 10.59 WIB)\n",
    "\n",
    "1. Buatlah _baseline_ dengan menggunakan model _logistic regression_.\n",
    "2. Lakukan analisis data terkait hal berikut:\n",
    "    - _duplicate value_,\n",
    "    - _missing value_,\n",
    "    - _outlier_,\n",
    "    - _balance of data_.\n",
    "3. Jelaskan rencana penanganan yang ada pada poin 2.\n",
    "4. Jelaskan teknik _encoding_ yang digunakan terhadap data yang disediakan, disertai dengan alasan.\n",
    "5. Buatlah desain eksperimen dengan menentukan hal berikut:\n",
    "    - tujuan eksperimen,\n",
    "    - variabel dependen dan independen,\n",
    "    - strategi eksperimen,\n",
    "    - skema validasi.\n",
    "    \n",
    "**Bagian 2**: (batas waktu: 17 April 2023, 23.59 WIB)\n",
    "\n",
    "6. Implementasikan strategi eksperimen dan skema validasi yang telah ditentukan pada poin 5.\n",
    "7. Berdasarkan hasil prediksi yang dihasilkan, buatlah kesimpulan analisis karakteristik kondisi hujan.\n",
    "\n",
    "---\n",
    "\n",
    "Jika terdapat perubahan jawaban pada poin 1—5 (contoh: perbedaan penanganan _outlier_), jelaskan pada laporan mengenai jawaban sebelum, jawaban sesudah, dan alasan pengubahan jawaban."
   ]
  },
  {
   "cell_type": "markdown",
   "metadata": {},
   "source": [
    "Pada sel ini, jelaskan pembagian tugas/kerja per anggota kelompok dalam eksperimen."
   ]
  },
  {
   "cell_type": "markdown",
   "metadata": {},
   "source": [
    "# _Deliverable_"
   ]
  },
  {
   "attachments": {},
   "cell_type": "markdown",
   "metadata": {},
   "source": [
    "_Deliverable_ yang akan dihasilkan adalah sebagai berikut:\n",
    "1. berkas _notebook_ dengan format nama `PraktikumIF3270_M1_NIM1_NIM2.ipynb` untuk Bagian 1;\n",
    "2. berkas _notebook_ dengan format nama `PraktikumIF3270_M2_NIM1_NIM2.ipynb` untuk Bagian 1 + Bagian 2; serta\n",
    "3. berkas laporan dengan format nama `PraktikumIF3270_NIM1_NIM2.pdf` yang mencakup hal berikut:\n",
    "    - hasil analisis data,\n",
    "    - penanganan dari hasil analisis data,\n",
    "    - justifikasi teknik-teknik yang dipilih,\n",
    "    - perubahan yang dilakukan pada jawaban poin 1—5 jika ada,\n",
    "    - desain eksperimen,\n",
    "    - hasil eksperimen.\n",
    "    - analisis dari hasil eksperimen,\n",
    "    - kesimpulan,\n",
    "    - pembagian tugas/kerja per anggota kelompok\n",
    "\n",
    "Batas waktu pengumpulan:\n",
    "- _Deliverable_ poin 1: Senin, 17 April 2023, pukul 10.59 WIB\n",
    "- _Deliverable_ poin 2: Senin, 17 April 2023, pukul 23.59 WIB\n",
    "- _Deliverable_ poin 3: Senin, 17 April 2023, pukul 23.59 WIB"
   ]
  },
  {
   "attachments": {},
   "cell_type": "markdown",
   "metadata": {},
   "source": [
    "## No 1\n",
    "Membuat baseline dengan model logistic regression"
   ]
  },
  {
   "cell_type": "code",
   "execution_count": 5,
   "metadata": {},
   "outputs": [
    {
     "name": "stdout",
     "output_type": "stream",
     "text": [
      "NILAI METRICS\n",
      "\n",
      "Nilai Precision: 0.5940438871473355\n",
      "Nilai Recall: 0.13542969447918526\n",
      "Nilai accuracy: 0.8736198924223837\n",
      "Nilai F1 Score: 0.22057325767495994\n",
      "\n",
      "CONFUSION MATRIX\n",
      "\n"
     ]
    },
    {
     "data": {
      "image/png": "[encoded data removed]",
      "text/plain": [
       "<Figure size 432x288 with 2 Axes>"
      ]
     },
     "metadata": {
      "needs_background": "light"
     },
     "output_type": "display_data"
    },
    {
     "name": "stdout",
     "output_type": "stream",
     "text": [
      "CROSS VALIDATION\n",
      "\n",
      "Menghasilakan akurasi sebesar 0.87 dengan standar deviasi sebesar 0.00\n"
     ]
    }
   ],
   "source": [
    "log_reg = LogisticRegression(random_state=0).fit(X_train, y_train)\n",
    "\n",
    "pred = log_reg.predict(X_val)\n",
    "\n",
    "# Nilai metrics\n",
    "print(\"NILAI METRICS\\n\")\n",
    "print(f\"Nilai Precision: {precision_score(y_val, pred)}\")\n",
    "print(f\"Nilai Recall: {recall_score(y_val, pred)}\")\n",
    "print(f\"Nilai accuracy: {accuracy_score(y_val, pred)}\")\n",
    "print(f\"Nilai F1 Score: {f1_score(y_val, pred)}\")\n",
    "\n",
    "# Confusion matrix\n",
    "print(\"\\nCONFUSION MATRIX\\n\")\n",
    "con_matrix = confusion_matrix(y_val, pred)\n",
    "ConfusionMatrixDisplay(confusion_matrix=con_matrix).plot()\n",
    "plt.show()\n",
    "\n",
    "# Cross validation\n",
    "print(\"CROSS VALIDATION\\n\")\n",
    "scores = cross_val_score(log_reg, X_train, y_train, cv=10)\n",
    "print(\"Menghasilakan akurasi sebesar %0.2f dengan standar deviasi sebesar %0.2f\" % (scores.mean(), scores.std()))\n"
   ]
  },
  {
   "attachments": {},
   "cell_type": "markdown",
   "metadata": {},
   "source": [
    "## No 2\n",
    "### Analisis Data"
   ]
  },
  {
   "cell_type": "code",
   "execution_count": 6,
   "metadata": {},
   "outputs": [
    {
     "data": {
      "text/html": [
       "<div>\n",
       "<style scoped>\n",
       "    .dataframe tbody tr th:only-of-type {\n",
       "        vertical-align: middle;\n",
       "    }\n",
       "\n",
       "    .dataframe tbody tr th {\n",
       "        vertical-align: top;\n",
       "    }\n",
       "\n",
       "    .dataframe thead th {\n",
       "        text-align: right;\n",
       "    }\n",
       "</style>\n",
       "<table border=\"1\" class=\"dataframe\">\n",
       "  <thead>\n",
       "    <tr style=\"text-align: right;\">\n",
       "      <th></th>\n",
       "      <th>hour</th>\n",
       "      <th>temp</th>\n",
       "      <th>temp_min</th>\n",
       "      <th>temp_max</th>\n",
       "      <th>pressure</th>\n",
       "      <th>humidity</th>\n",
       "      <th>wind_speed</th>\n",
       "      <th>wind_deg</th>\n",
       "      <th>raining</th>\n",
       "    </tr>\n",
       "  </thead>\n",
       "  <tbody>\n",
       "    <tr>\n",
       "      <th>hour</th>\n",
       "      <td>1.000000</td>\n",
       "      <td>-0.525264</td>\n",
       "      <td>-0.517920</td>\n",
       "      <td>-0.525277</td>\n",
       "      <td>-0.038128</td>\n",
       "      <td>0.509068</td>\n",
       "      <td>-0.200925</td>\n",
       "      <td>-0.045260</td>\n",
       "      <td>0.083878</td>\n",
       "    </tr>\n",
       "    <tr>\n",
       "      <th>temp</th>\n",
       "      <td>-0.525264</td>\n",
       "      <td>1.000000</td>\n",
       "      <td>0.990006</td>\n",
       "      <td>0.990866</td>\n",
       "      <td>-0.330157</td>\n",
       "      <td>-0.704173</td>\n",
       "      <td>0.146250</td>\n",
       "      <td>0.099441</td>\n",
       "      <td>-0.209792</td>\n",
       "    </tr>\n",
       "    <tr>\n",
       "      <th>temp_min</th>\n",
       "      <td>-0.517920</td>\n",
       "      <td>0.990006</td>\n",
       "      <td>1.000000</td>\n",
       "      <td>0.964316</td>\n",
       "      <td>-0.322168</td>\n",
       "      <td>-0.695061</td>\n",
       "      <td>0.142454</td>\n",
       "      <td>0.099499</td>\n",
       "      <td>-0.207823</td>\n",
       "    </tr>\n",
       "    <tr>\n",
       "      <th>temp_max</th>\n",
       "      <td>-0.525277</td>\n",
       "      <td>0.990866</td>\n",
       "      <td>0.964316</td>\n",
       "      <td>1.000000</td>\n",
       "      <td>-0.330576</td>\n",
       "      <td>-0.701721</td>\n",
       "      <td>0.147038</td>\n",
       "      <td>0.096501</td>\n",
       "      <td>-0.207877</td>\n",
       "    </tr>\n",
       "    <tr>\n",
       "      <th>pressure</th>\n",
       "      <td>-0.038128</td>\n",
       "      <td>-0.330157</td>\n",
       "      <td>-0.322168</td>\n",
       "      <td>-0.330576</td>\n",
       "      <td>1.000000</td>\n",
       "      <td>0.005284</td>\n",
       "      <td>-0.010681</td>\n",
       "      <td>-0.315603</td>\n",
       "      <td>-0.092652</td>\n",
       "    </tr>\n",
       "    <tr>\n",
       "      <th>humidity</th>\n",
       "      <td>0.509068</td>\n",
       "      <td>-0.704173</td>\n",
       "      <td>-0.695061</td>\n",
       "      <td>-0.701721</td>\n",
       "      <td>0.005284</td>\n",
       "      <td>1.000000</td>\n",
       "      <td>-0.291652</td>\n",
       "      <td>0.031189</td>\n",
       "      <td>0.296700</td>\n",
       "    </tr>\n",
       "    <tr>\n",
       "      <th>wind_speed</th>\n",
       "      <td>-0.200925</td>\n",
       "      <td>0.146250</td>\n",
       "      <td>0.142454</td>\n",
       "      <td>0.147038</td>\n",
       "      <td>-0.010681</td>\n",
       "      <td>-0.291652</td>\n",
       "      <td>1.000000</td>\n",
       "      <td>0.090482</td>\n",
       "      <td>0.037894</td>\n",
       "    </tr>\n",
       "    <tr>\n",
       "      <th>wind_deg</th>\n",
       "      <td>-0.045260</td>\n",
       "      <td>0.099441</td>\n",
       "      <td>0.099499</td>\n",
       "      <td>0.096501</td>\n",
       "      <td>-0.315603</td>\n",
       "      <td>0.031189</td>\n",
       "      <td>0.090482</td>\n",
       "      <td>1.000000</td>\n",
       "      <td>0.154758</td>\n",
       "    </tr>\n",
       "    <tr>\n",
       "      <th>raining</th>\n",
       "      <td>0.083878</td>\n",
       "      <td>-0.209792</td>\n",
       "      <td>-0.207823</td>\n",
       "      <td>-0.207877</td>\n",
       "      <td>-0.092652</td>\n",
       "      <td>0.296700</td>\n",
       "      <td>0.037894</td>\n",
       "      <td>0.154758</td>\n",
       "      <td>1.000000</td>\n",
       "    </tr>\n",
       "  </tbody>\n",
       "</table>\n",
       "</div>"
      ],
      "text/plain": [
       "                hour      temp  temp_min  temp_max  pressure  humidity  \\\n",
       "hour        1.000000 -0.525264 -0.517920 -0.525277 -0.038128  0.509068   \n",
       "temp       -0.525264  1.000000  0.990006  0.990866 -0.330157 -0.704173   \n",
       "temp_min   -0.517920  0.990006  1.000000  0.964316 -0.322168 -0.695061   \n",
       "temp_max   -0.525277  0.990866  0.964316  1.000000 -0.330576 -0.701721   \n",
       "pressure   -0.038128 -0.330157 -0.322168 -0.330576  1.000000  0.005284   \n",
       "humidity    0.509068 -0.704173 -0.695061 -0.701721  0.005284  1.000000   \n",
       "wind_speed -0.200925  0.146250  0.142454  0.147038 -0.010681 -0.291652   \n",
       "wind_deg   -0.045260  0.099441  0.099499  0.096501 -0.315603  0.031189   \n",
       "raining     0.083878 -0.209792 -0.207823 -0.207877 -0.092652  0.296700   \n",
       "\n",
       "            wind_speed  wind_deg   raining  \n",
       "hour         -0.200925 -0.045260  0.083878  \n",
       "temp          0.146250  0.099441 -0.209792  \n",
       "temp_min      0.142454  0.099499 -0.207823  \n",
       "temp_max      0.147038  0.096501 -0.207877  \n",
       "pressure     -0.010681 -0.315603 -0.092652  \n",
       "humidity     -0.291652  0.031189  0.296700  \n",
       "wind_speed    1.000000  0.090482  0.037894  \n",
       "wind_deg      0.090482  1.000000  0.154758  \n",
       "raining       0.037894  0.154758  1.000000  "
      ]
     },
     "execution_count": 6,
     "metadata": {},
     "output_type": "execute_result"
    }
   ],
   "source": [
    "data.corr()"
   ]
  },
  {
   "cell_type": "code",
   "execution_count": 7,
   "metadata": {},
   "outputs": [
    {
     "data": {
      "text/html": [
       "<div>\n",
       "<style scoped>\n",
       "    .dataframe tbody tr th:only-of-type {\n",
       "        vertical-align: middle;\n",
       "    }\n",
       "\n",
       "    .dataframe tbody tr th {\n",
       "        vertical-align: top;\n",
       "    }\n",
       "\n",
       "    .dataframe thead th {\n",
       "        text-align: right;\n",
       "    }\n",
       "</style>\n",
       "<table border=\"1\" class=\"dataframe\">\n",
       "  <thead>\n",
       "    <tr style=\"text-align: right;\">\n",
       "      <th></th>\n",
       "      <th>hour</th>\n",
       "      <th>temp</th>\n",
       "      <th>temp_min</th>\n",
       "      <th>temp_max</th>\n",
       "      <th>pressure</th>\n",
       "      <th>humidity</th>\n",
       "      <th>wind_speed</th>\n",
       "      <th>wind_deg</th>\n",
       "      <th>raining</th>\n",
       "    </tr>\n",
       "  </thead>\n",
       "  <tbody>\n",
       "    <tr>\n",
       "      <th>hour</th>\n",
       "      <td>1.000000</td>\n",
       "      <td>-0.524625</td>\n",
       "      <td>-0.517485</td>\n",
       "      <td>-0.524620</td>\n",
       "      <td>-0.036858</td>\n",
       "      <td>0.508015</td>\n",
       "      <td>-0.198036</td>\n",
       "      <td>-0.043853</td>\n",
       "      <td>0.086452</td>\n",
       "    </tr>\n",
       "    <tr>\n",
       "      <th>temp</th>\n",
       "      <td>-0.524625</td>\n",
       "      <td>1.000000</td>\n",
       "      <td>0.989977</td>\n",
       "      <td>0.990848</td>\n",
       "      <td>-0.332957</td>\n",
       "      <td>-0.704613</td>\n",
       "      <td>0.144643</td>\n",
       "      <td>0.098109</td>\n",
       "      <td>-0.209260</td>\n",
       "    </tr>\n",
       "    <tr>\n",
       "      <th>temp_min</th>\n",
       "      <td>-0.517485</td>\n",
       "      <td>0.989977</td>\n",
       "      <td>1.000000</td>\n",
       "      <td>0.964214</td>\n",
       "      <td>-0.324708</td>\n",
       "      <td>-0.695719</td>\n",
       "      <td>0.141148</td>\n",
       "      <td>0.098183</td>\n",
       "      <td>-0.207204</td>\n",
       "    </tr>\n",
       "    <tr>\n",
       "      <th>temp_max</th>\n",
       "      <td>-0.524620</td>\n",
       "      <td>0.990848</td>\n",
       "      <td>0.964214</td>\n",
       "      <td>1.000000</td>\n",
       "      <td>-0.333471</td>\n",
       "      <td>-0.702143</td>\n",
       "      <td>0.145384</td>\n",
       "      <td>0.095026</td>\n",
       "      <td>-0.207583</td>\n",
       "    </tr>\n",
       "    <tr>\n",
       "      <th>pressure</th>\n",
       "      <td>-0.036858</td>\n",
       "      <td>-0.332957</td>\n",
       "      <td>-0.324708</td>\n",
       "      <td>-0.333471</td>\n",
       "      <td>1.000000</td>\n",
       "      <td>0.008142</td>\n",
       "      <td>-0.012827</td>\n",
       "      <td>-0.316609</td>\n",
       "      <td>-0.094623</td>\n",
       "    </tr>\n",
       "    <tr>\n",
       "      <th>humidity</th>\n",
       "      <td>0.508015</td>\n",
       "      <td>-0.704613</td>\n",
       "      <td>-0.695719</td>\n",
       "      <td>-0.702143</td>\n",
       "      <td>0.008142</td>\n",
       "      <td>1.000000</td>\n",
       "      <td>-0.288714</td>\n",
       "      <td>0.032181</td>\n",
       "      <td>0.297165</td>\n",
       "    </tr>\n",
       "    <tr>\n",
       "      <th>wind_speed</th>\n",
       "      <td>-0.198036</td>\n",
       "      <td>0.144643</td>\n",
       "      <td>0.141148</td>\n",
       "      <td>0.145384</td>\n",
       "      <td>-0.012827</td>\n",
       "      <td>-0.288714</td>\n",
       "      <td>1.000000</td>\n",
       "      <td>0.090571</td>\n",
       "      <td>0.040938</td>\n",
       "    </tr>\n",
       "    <tr>\n",
       "      <th>wind_deg</th>\n",
       "      <td>-0.043853</td>\n",
       "      <td>0.098109</td>\n",
       "      <td>0.098183</td>\n",
       "      <td>0.095026</td>\n",
       "      <td>-0.316609</td>\n",
       "      <td>0.032181</td>\n",
       "      <td>0.090571</td>\n",
       "      <td>1.000000</td>\n",
       "      <td>0.155436</td>\n",
       "    </tr>\n",
       "    <tr>\n",
       "      <th>raining</th>\n",
       "      <td>0.086452</td>\n",
       "      <td>-0.209260</td>\n",
       "      <td>-0.207204</td>\n",
       "      <td>-0.207583</td>\n",
       "      <td>-0.094623</td>\n",
       "      <td>0.297165</td>\n",
       "      <td>0.040938</td>\n",
       "      <td>0.155436</td>\n",
       "      <td>1.000000</td>\n",
       "    </tr>\n",
       "  </tbody>\n",
       "</table>\n",
       "</div>"
      ],
      "text/plain": [
       "                hour      temp  temp_min  temp_max  pressure  humidity  \\\n",
       "hour        1.000000 -0.524625 -0.517485 -0.524620 -0.036858  0.508015   \n",
       "temp       -0.524625  1.000000  0.989977  0.990848 -0.332957 -0.704613   \n",
       "temp_min   -0.517485  0.989977  1.000000  0.964214 -0.324708 -0.695719   \n",
       "temp_max   -0.524620  0.990848  0.964214  1.000000 -0.333471 -0.702143   \n",
       "pressure   -0.036858 -0.332957 -0.324708 -0.333471  1.000000  0.008142   \n",
       "humidity    0.508015 -0.704613 -0.695719 -0.702143  0.008142  1.000000   \n",
       "wind_speed -0.198036  0.144643  0.141148  0.145384 -0.012827 -0.288714   \n",
       "wind_deg   -0.043853  0.098109  0.098183  0.095026 -0.316609  0.032181   \n",
       "raining     0.086452 -0.209260 -0.207204 -0.207583 -0.094623  0.297165   \n",
       "\n",
       "            wind_speed  wind_deg   raining  \n",
       "hour         -0.198036 -0.043853  0.086452  \n",
       "temp          0.144643  0.098109 -0.209260  \n",
       "temp_min      0.141148  0.098183 -0.207204  \n",
       "temp_max      0.145384  0.095026 -0.207583  \n",
       "pressure     -0.012827 -0.316609 -0.094623  \n",
       "humidity     -0.288714  0.032181  0.297165  \n",
       "wind_speed    1.000000  0.090571  0.040938  \n",
       "wind_deg      0.090571  1.000000  0.155436  \n",
       "raining       0.040938  0.155436  1.000000  "
      ]
     },
     "execution_count": 7,
     "metadata": {},
     "output_type": "execute_result"
    }
   ],
   "source": [
    "df_train.corr()"
   ]
  },
  {
   "attachments": {},
   "cell_type": "markdown",
   "metadata": {},
   "source": [
    "#### Duplicate Value"
   ]
  },
  {
   "cell_type": "code",
   "execution_count": 8,
   "metadata": {},
   "outputs": [
    {
     "name": "stdout",
     "output_type": "stream",
     "text": [
      "        hour   temp  temp_min  temp_max  pressure  humidity  wind_speed  \\\n",
      "8773       0  26.68     26.68     26.68    1009.0        84        3.07   \n",
      "8940      23  26.60     26.60     26.60    1009.0        88        6.20   \n",
      "8941       0  26.60     26.60     26.60    1009.0        88        6.20   \n",
      "8942       1  26.60     26.60     26.60    1009.0        88        6.20   \n",
      "17543      0  26.28     26.28     26.28    1011.0        85        0.49   \n",
      "...      ...    ...       ...       ...       ...       ...         ...   \n",
      "264664     9  30.07     30.00     30.20    1007.0        79        3.10   \n",
      "264744    12  27.90     27.70     28.00    1010.0        83        1.00   \n",
      "264756     0  28.00     28.00     28.00    1011.0        83        1.00   \n",
      "264784     4  31.00     31.00     31.00    1011.0        70        4.10   \n",
      "264881     5  30.00     30.00     30.00    1008.0        74        5.10   \n",
      "\n",
      "        wind_deg  raining  \n",
      "8773         287     True  \n",
      "8940         300    False  \n",
      "8941         300    False  \n",
      "8942         300    False  \n",
      "17543         42    False  \n",
      "...          ...      ...  \n",
      "264664       260    False  \n",
      "264744         0    False  \n",
      "264756         0    False  \n",
      "264784       260    False  \n",
      "264881       270    False  \n",
      "\n",
      "[7253 rows x 9 columns]\n",
      "\n",
      "Jumlah data duplicated: 7253\n",
      "Persentase data yang duplicate adalah sebesar 2.74 %\n"
     ]
    }
   ],
   "source": [
    "print(data[data.duplicated()])\n",
    "print(f\"\\nJumlah data duplicated: {data.duplicated().sum()}\")\n",
    "percentage = (data.duplicated().sum() / len(data)) * 100\n",
    "print(\"Persentase data yang duplicate adalah sebesar {:.2f} %\".format(percentage))"
   ]
  },
  {
   "cell_type": "code",
   "execution_count": 9,
   "metadata": {},
   "outputs": [
    {
     "name": "stdout",
     "output_type": "stream",
     "text": [
      "        hour  temp  temp_min  temp_max  pressure  humidity  wind_speed  \\\n",
      "93272     13  25.0      25.0      25.0    1010.8        73        3.10   \n",
      "59112      4  30.0      30.0      30.0    1011.9        62        4.10   \n",
      "77316      5  31.0      31.0      31.0    1008.1        66        3.60   \n",
      "118807    10  26.0      26.0      26.0    1010.8        83        3.60   \n",
      "74896     10  28.0      28.0      28.0    1009.1        78        3.60   \n",
      "...      ...   ...       ...       ...       ...       ...         ...   \n",
      "116999     2  31.0      31.0      31.0    1010.2        74        3.10   \n",
      "124060    13  28.0      28.0      28.0    1010.2        83        4.60   \n",
      "86791     23  26.0      26.0      26.0    1010.8        88        1.83   \n",
      "182507     5  30.0      30.0      30.0    1009.1        70        4.60   \n",
      "119686     1  28.0      28.0      28.0    1012.9        74        3.10   \n",
      "\n",
      "        wind_deg  raining  \n",
      "93272        120    False  \n",
      "59112        110    False  \n",
      "77316        130    False  \n",
      "118807       110    False  \n",
      "74896        110    False  \n",
      "...          ...      ...  \n",
      "116999        90    False  \n",
      "124060       260    False  \n",
      "86791         86    False  \n",
      "182507       120    False  \n",
      "119686       100    False  \n",
      "\n",
      "[3309 rows x 9 columns]\n",
      "\n",
      "Jumlah df_train duplicated: 3309\n",
      "Persentase df_train yang duplicate adalah sebesar 1.95 %\n"
     ]
    }
   ],
   "source": [
    "print(df_train[df_train.duplicated()])\n",
    "print(f\"\\nJumlah df_train duplicated: {df_train.duplicated().sum()}\")\n",
    "percentage = (df_train.duplicated().sum() / len(df_train)) * 100\n",
    "print(\"Persentase df_train yang duplicate adalah sebesar {:.2f} %\".format(percentage))\n"
   ]
  },
  {
   "cell_type": "code",
   "execution_count": 10,
   "metadata": {},
   "outputs": [
    {
     "name": "stdout",
     "output_type": "stream",
     "text": [
      "        hour   temp  temp_min  temp_max  pressure  humidity  wind_speed  \\\n",
      "110333     4  29.00      29.0      29.0    1012.9        70        5.10   \n",
      "107912     7  30.00      30.0      30.0    1008.1        79        2.60   \n",
      "199419    19  25.04      25.0      25.1    1012.0        79        6.69   \n",
      "57721      5  30.00      30.0      30.0    1011.9        66        4.10   \n",
      "31674      4  29.00      29.0      29.0    1011.9        70        4.60   \n",
      "...      ...    ...       ...       ...       ...       ...         ...   \n",
      "109530    17  26.00      26.0      26.0    1010.2        83        2.60   \n",
      "55301     10  29.00      29.0      29.0    1009.1        79        2.60   \n",
      "64271     11  28.00      28.0      28.0    1010.2        83        2.60   \n",
      "93765      2  29.00      29.0      29.0    1012.9        66        4.10   \n",
      "127932     8  29.00      29.0      29.0    1008.1        74        4.10   \n",
      "\n",
      "        wind_deg  raining  \n",
      "110333       110    False  \n",
      "107912       110    False  \n",
      "199419       120    False  \n",
      "57721        120    False  \n",
      "31674        110    False  \n",
      "...          ...      ...  \n",
      "109530       120    False  \n",
      "55301        110    False  \n",
      "64271        120    False  \n",
      "93765        110    False  \n",
      "127932       120    False  \n",
      "\n",
      "[223 rows x 9 columns]\n",
      "\n",
      "Jumlah df_val duplicated: 3309\n",
      "Persentase df_val yang duplicate adalah sebesar 0.53 %\n"
     ]
    }
   ],
   "source": [
    "print(df_val[df_val.duplicated()])\n",
    "print(f\"\\nJumlah df_val duplicated: {df_train.duplicated().sum()}\")\n",
    "percentage = (df_val.duplicated().sum() / len(df_val)) * 100\n",
    "print(\"Persentase df_val yang duplicate adalah sebesar {:.2f} %\".format(percentage))\n"
   ]
  },
  {
   "attachments": {},
   "cell_type": "markdown",
   "metadata": {},
   "source": [
    "Terlihat pada hasil yang tampil di atas, terdapat data yang duplicate sebanyak 7253 data. Persentase data yang duplicate dari keseluruhan data adalah sebesar 2.74 %. Hal ini relatif cukup kecil."
   ]
  },
  {
   "attachments": {},
   "cell_type": "markdown",
   "metadata": {},
   "source": [
    "#### Missing Value"
   ]
  },
  {
   "attachments": {},
   "cell_type": "markdown",
   "metadata": {},
   "source": [
    "Hanya memeriksa pada data set keseluruhan saja."
   ]
  },
  {
   "cell_type": "code",
   "execution_count": 11,
   "metadata": {},
   "outputs": [
    {
     "data": {
      "text/plain": [
       "hour          0\n",
       "temp          0\n",
       "temp_min      0\n",
       "temp_max      0\n",
       "pressure      0\n",
       "humidity      0\n",
       "wind_speed    0\n",
       "wind_deg      0\n",
       "raining       0\n",
       "dtype: int64"
      ]
     },
     "execution_count": 11,
     "metadata": {},
     "output_type": "execute_result"
    }
   ],
   "source": [
    "data.isna().sum()"
   ]
  },
  {
   "attachments": {},
   "cell_type": "markdown",
   "metadata": {},
   "source": [
    "Terlihat pada hasil yang ditampilkan di atas, tidak terdapat kolom yang mengalami missing value. Oleh karena itu, penanganan missing value tidak diperlukan."
   ]
  },
  {
   "attachments": {},
   "cell_type": "markdown",
   "metadata": {},
   "source": [
    "#### Outlier"
   ]
  },
  {
   "cell_type": "code",
   "execution_count": 12,
   "metadata": {},
   "outputs": [
    {
     "name": "stdout",
     "output_type": "stream",
     "text": [
      "Outliers in hour\n",
      "[]\n",
      "Number of outliers: 0\n",
      "\n",
      "\n",
      "Outliers in temp\n",
      "[20.9  20.9  20.9  ... 33.7  32.66 34.  ]\n",
      "Number of outliers: 1458\n",
      "\n",
      "\n",
      "Outliers in temp_min\n",
      "[32.4 32.4 32.4 ... 33.2 33.2 34. ]\n",
      "Number of outliers: 1716\n",
      "\n",
      "\n",
      "Outliers in temp_max\n",
      "[20.9 20.9 20.9 21.2 21.2 21.2 20.5 20.5 20.5 33.6 33.6 33.6 33.8 33.8\n",
      " 33.8  3.   3.  34.1 34.1 34.1 33.8 33.8 34.2 34.2 34.2 21.  21.  21.\n",
      " 21.4 21.4 21.4 21.  21.  21.  21.  21.  20.  21.  20.  21.  21.  21.\n",
      " 20.  21.  21.  21.  21.  21.  20.2 19.  19.  21.  21.  21.  21.  21.\n",
      " 21.2 20.  20.2 19.  19.  21.  21.  21.  21.4 21.  20.  20.  21.  20.\n",
      " 20.  20.2 20.  21.  21.  20.9 21.  20.  21.  21.  20.  21.  21.  21.\n",
      " 34.  34.  20.7 21.  21.2 21.2 20.  20.  20.  20.  20.  19.  19.  21.\n",
      " 21.  21.  21.  21.  20.8 20.  21.  21.  20.8 20.8 21.  21.1 21.1 21.\n",
      " 21.  20.  21.  20.  34.2 21.  21.  20.  21.4 21.  20.  21.  21.  20.\n",
      " 21.  21.  21.2 21.2 21.2 21.2 21.  21.  21.2 21.2 21.  21.  21.  21.\n",
      " 21.  21.  20.8 19.  19.  21.  20.4 19.  21.  20.8 20.  21.  21.  34.\n",
      " 33.8 33.6 33.6 33.6 33.6 33.6 34.  34.6 34.  35.  34.  34.  34.2 35.\n",
      " 34.2 34.  34.  33.9 34.  34.2 34.  34.  34.2 34.  34.3 34.  33.6 33.8\n",
      " 33.8 34.  34.  34.  33.6 33.8 34.  34.  34.  34.  34.2 34.  34.4 34.\n",
      " 34.  34.2 34.  33.7 34.  34.  34.  34.  34.  33.6 34.  33.6 34.  34.\n",
      " 33.8 34.  34.  34.  34.  35.  34.  34.  20.  34.  21.  21.  17.  17.\n",
      " 21.2 21.2 20.4 20.  21.1 21.1 21.1 20.  21.  20.8 20.  21.4 21.4 21.4\n",
      " 21.  21.  21.  20.6 20.6 20.  20.  19.6 19.6 19.  19.  21.  19.4 21.2\n",
      " 21.  21.  36.  21.  21.4 21.  21.  21.  20.8 20.8 20.8 20.8 20.8 21.\n",
      " 21.  21.3 21.3 21.  20.  21.  21.4 21.  21.  20.  20.  20.  21.  20.8\n",
      " 20.8 19.8 19.  19.  21.  21.  21.  21.2 21.2 21.2 21.2 21.2 21.4 21.4\n",
      " 21.4 20.6 20.  20.  21.  21.  21.  21.  21.4 21.  21.  21.  20.4 20.\n",
      " 21.  21.2 21.2 21.2 21.  21.  19.4 19.  20.  20.8 21.  21.  34.  34.\n",
      " 34.  34.  34.  20.6 20.6 35.4 21.2 21.  21.  21.1 21.1 19.9 19.  19.\n",
      " 20.  20.  21.  20.  21.  21.  21.2 21.  21.4 21.  20.8 21.  20.8 20.\n",
      " 20.  21.3 21.  21.  20.  20.  21.2 21.4 21.4 20.2 19.  19.  21.  21.\n",
      " 21.  21.  21.  19.4 20.  21.  21.  39.  20.2 20.  21.  21.  20.  20.6\n",
      " 20.  21.  21.  21.  21.  21.  21.  21.  21.2 21.2 21.  21.  21.1 21.\n",
      " 21.  21.  21.  21.1 21.1 21.1 21.  21.  21.  20.8 20.8 21.  21.2 21.2\n",
      " 21.2 20.  19.4 19.4 21.4 20.  19.5 20.  21.  20.5 19.  18.7 19.  20.8\n",
      " 21.4 21.4 21.4 19.  19.  19.  20.  21.4 21.4 21.4 34.  34.  34.  35.\n",
      " 35.  34.2 34.  20.4 20.4 21.  21.4 21.4 21.  20.8 19.  19.  19.  21.\n",
      " 20.9 20.  19.  18.7 20.7 20.7 21.  21.  21.  21.4 21.4 20.  19.6 20.\n",
      " 20.  19.9 20.  21.  20.6 21.  20.6 20.6 34.  21.4 21.4 19.8 20.5 21.4\n",
      " 36.2 36.2 36.2 36.2 21.4 21.4 21.4 21.2 21.2 21.2 39.8 39.8 39.8 21.4\n",
      " 21.4 21.4 21.  20.3 20.3 21.  21.  21.  21.  20.5 21.  20.5 21.3 21.3\n",
      " 21.3 21.2 21.2 21.3 21.  21.  20.7 21.4 21.4 21.1 21.1 21.  21.  21.\n",
      " 21.1 21.1 21.  21.  21.  34.  34.  21.  21.  21.  21.  21.  34.  34.\n",
      " 34.  34.  34.  34.4 34.4 34.4 34.  34.  34.  34.  34.  34.  34.  34.\n",
      " 34. ]\n",
      "Number of outliers: 547\n",
      "\n",
      "\n",
      "Outliers in pressure\n",
      "[1019.9 1019.9 1019.9 ... 1003.  1003.  1003. ]\n",
      "Number of outliers: 1067\n",
      "\n",
      "\n",
      "Outliers in humidity\n",
      "[51 51 51 50 50 50 52 52 52 50 50 52 52 52 49 49 48 52 52 46 52 49 51 51\n",
      " 52 51 51 52 52 46 52 52 52 45 46 52 51 52 47 52 48 48 51 51 49 51 52 52\n",
      " 45 43 41 35 35 50 50 52 52 50 49 52 52 49 49 52 52 49 51 46 46 51 52 52\n",
      " 47 49 49 52 49 52 52 52 52 52 52 49 49 49 51 51 51 52 50 52 51 48 48 51\n",
      " 48 51 51 51 48 51 51 51 51 47 51 52 52 52 52 51 51 52 52 52 52 52 49 52\n",
      " 52 52 52 52 52 52 52 52 52 51 51 51 52 51 52 47 52 51 52 51 51 50 51 52\n",
      " 40 51 47 51 51 49 42 37 14 35 51 51 51 28 28 28 19 39 39 39 52 52 52 51\n",
      " 51 51 50 50 50 51 35 51 51 51 51 51 51 46 45 51 52 52 52 52 52 52 52 49\n",
      " 41 49 52 51 51 48 45 48 51 51 51 52 52 48 48 48 52 51 47 41 43 51 52 51\n",
      " 51 51 51 52 52 52 52 52 52 52 49 52 49 52 52]\n",
      "Number of outliers: 231\n",
      "\n",
      "\n",
      "Outliers in wind_speed\n",
      "[ 9.23  9.29  8.74 ... 10.8  10.3   8.7 ]\n",
      "Number of outliers: 3439\n",
      "\n",
      "\n",
      "Outliers in wind_deg\n",
      "[]\n",
      "Number of outliers: 0\n",
      "\n",
      "\n"
     ]
    }
   ],
   "source": [
    "#Keseluruhan\n",
    "numeric_cols = data.select_dtypes(include=\"number\").columns\n",
    "for column in numeric_cols:\n",
    "    # Menghitung IQR\n",
    "    Q1 = data[column].quantile(0.25)\n",
    "    Q3 = data[column].quantile(0.75)\n",
    "    IQR = Q3 - Q1\n",
    "    \n",
    "    # Menghitung lower dan upper bounds\n",
    "    lower_bound = Q1 - 1.5 * IQR\n",
    "    upper_bound = Q3 + 1.5 * IQR\n",
    "    \n",
    "    # Identifikasi outlier\n",
    "    outliers = data[(data[column] < lower_bound) | (data[column] > upper_bound)]\n",
    "    \n",
    "    # Menampilkan outlier\n",
    "    print(\"Outliers in\", column)\n",
    "    print(outliers[column].values)\n",
    "    print(\"Number of outliers:\", len(outliers))\n",
    "    print(\"\\n\")\n"
   ]
  },
  {
   "cell_type": "code",
   "execution_count": 13,
   "metadata": {},
   "outputs": [
    {
     "name": "stdout",
     "output_type": "stream",
     "text": [
      "Outliers in hour\n",
      "[]\n",
      "Number of outliers: 0\n",
      "\n",
      "\n",
      "Outliers in temp\n",
      "[33.36 20.26 20.8  21.6  21.   21.13 33.2  33.2  20.7  34.2  20.94 19.\n",
      " 21.54 33.6  33.   21.   33.   32.61 20.61 20.   34.   21.   33.   33.5\n",
      " 39.   33.   32.9  20.   33.   20.9  21.75 18.42 32.8  33.   20.   20.\n",
      " 33.   21.4  33.   21.   21.6  33.4  21.6  21.63 21.   21.   21.   20.\n",
      " 21.4  33.3  33.   21.   21.   21.8  33.   33.   20.   33.9  33.   20.6\n",
      " 33.   32.66 21.9  33.   33.   21.   33.   20.   34.   33.   21.6  34.6\n",
      " 33.   21.75 21.58 21.92 34.2  32.85 32.64 21.   33.   34.   33.   33.\n",
      " 33.   33.   33.   21.8  20.8  33.   32.76 21.   33.2  32.8  33.27 21.65\n",
      " 20.4  33.   33.   33.   32.64 21.8  21.   33.   33.   33.   21.   21.6\n",
      " 21.33 34.2  21.   33.   21.   33.   21.   33.8  33.3  21.   33.   33.3\n",
      " 21.2  33.   32.8  36.   20.   33.   33.   33.   33.   21.3  33.   21.8\n",
      " 20.89 20.58 33.05 33.4  33.   33.   33.   33.   33.   20.3  33.   21.4\n",
      " 21.1  33.   33.   33.2  21.2  21.2  19.   21.   33.   34.   33.   34.\n",
      " 33.   33.8  21.7  32.88 21.89 19.24 21.15 20.75 33.   33.2  21.2  32.8\n",
      " 21.1  33.4  21.8  33.2  21.   33.   21.85 32.8  33.73 34.2  21.03 21.2\n",
      " 32.94 21.   21.5  33.   33.7  32.8  34.    3.   33.   32.68 21.89 21.8\n",
      " 33.   32.8  33.2  20.53 33.   21.   33.   21.24 21.8  33.   21.6  33.4\n",
      " 33.   32.8  21.23 33.   32.93 33.   33.   21.   21.2  15.   21.21 21.8\n",
      " 21.51 33.   20.   19.76 33.   32.7  21.11 21.   33.4  21.2  33.   21.7\n",
      " 33.5  33.2  33.   20.   32.7  21.   33.   33.   32.91 33.   21.11 21.67\n",
      " 34.   33.   21.   33.6  33.   33.   21.9  34.   20.6  33.   21.12 21.7\n",
      " 21.4  21.2  33.   21.2  33.   21.3  20.   18.85 21.   21.9  32.75 21.4\n",
      " 20.   21.   20.1  33.   21.   21.   33.   34.1  21.   33.   21.6  33.\n",
      " 33.   21.2  33.   33.   32.87 34.3  33.   33.   21.89 21.   19.7  21.8\n",
      " 21.   34.   21.9  33.   21.   33.03 33.   33.   32.94 32.77 33.1  33.1\n",
      " 34.   21.8  33.   32.82 33.   33.   32.95 32.8  34.   21.3  20.75 32.67\n",
      " 33.59 21.1  32.82 33.   32.95 21.   33.2  34.   33.   35.54 33.   34.2\n",
      " 33.   32.61 21.05 20.5  33.4  18.31 20.   21.   21.9  21.57 33.   33.\n",
      " 33.2  21.4  21.4  21.6  21.4  20.2  34.   33.4  33.   32.8  21.8  33.\n",
      " 33.   21.   32.8  32.8  33.6  34.   21.   21.2  19.   19.8  32.9  33.\n",
      " 21.   20.4  21.1  33.   21.36 20.85 21.6  33.   34.   33.   33.   32.75\n",
      " 33.   21.   33.   21.8  33.   33.2  21.6  19.   33.   34.   33.   33.6\n",
      " 32.8  34.   32.8  33.   33.   21.6  32.94 33.   21.6  21.33 21.7  20.9\n",
      " 21.2  33.7  32.64 20.   33.   21.2  20.94 20.4  21.8  21.6  21.8  20.6\n",
      " 21.   32.77 21.6  34.   21.8  33.   21.   33.   34.   33.   21.1  32.85\n",
      " 21.9  33.   33.   33.   21.36 33.5  32.8  21.85 33.   32.63 33.   19.\n",
      " 21.7  21.2  32.92 21.2  33.   32.8  33.   32.8  21.87 33.   32.64 33.\n",
      " 21.75 33.   21.8  33.   20.   32.66 32.77 21.8  33.   33.51 21.   21.1\n",
      " 20.6  33.   21.9  21.3  33.   21.8  32.87 32.9  33.   33.   32.8  18.82\n",
      " 21.6  33.   33.4  33.   33.   32.8  21.6  33.2  33.2  20.8  33.   21.23\n",
      " 21.8  33.4  33.   21.36 33.   21.   33.   32.81 33.   20.   21.   33.\n",
      " 19.95 34.52 21.2  33.   33.   33.2  33.   33.   20.94 33.   33.   21.\n",
      " 21.3  33.   21.6  20.   21.   19.   33.   34.   32.64 21.2  32.9  33.\n",
      " 33.8  21.75 34.   21.5  33.   33.   21.7  33.   21.   33.   33.   21.7\n",
      " 21.6  20.7  33.   32.8  19.   33.8  34.1  19.   21.4  21.4  33.   21.\n",
      " 33.   33.   32.88 35.4  32.65 33.1  33.7  19.   34.   20.18 33.   33.\n",
      " 21.2  21.7  19.07 33.   32.64 32.7  21.73 33.2  34.   33.   21.8  21.2\n",
      " 20.9  33.   32.64 21.   21.6  32.76 21.5  32.7  34.   33.   33.   20.8\n",
      " 19.   33.   32.8  32.88 33.   21.2  33.   33.   19.6  32.79 20.   21.51\n",
      " 33.4  32.8  33.   33.   21.8  33.   32.8  33.   33.   21.07 21.4  20.\n",
      " 19.   21.   33.19 33.   33.1  33.2  33.   33.   32.8  21.8  21.2  33.\n",
      " 32.8  21.   21.   34.   32.9  33.1  21.   33.   19.   33.   33.   21.26\n",
      " 33.   21.   21.8  33.   33.   32.67 21.89 33.   21.8  21.2  32.8  32.8\n",
      " 33.   33.   20.8  34.   21.   33.   33.   33.3  21.43 32.89 33.   33.\n",
      " 21.4  21.   21.   33.   21.   21.18 33.2  20.5  32.8  33.   21.55 20.85\n",
      " 33.   34.   21.1  20.   21.6  32.8  33.   21.   33.8  33.   32.8  21.85\n",
      " 33.   33.   20.8  21.1  33.   21.   21.   21.23 19.75 33.   32.8  21.2\n",
      " 33.   33.   33.   33.   33.   21.6  20.9  32.61 33.   20.75 20.   33.81\n",
      " 33.   33.   33.   33.   32.8  21.   32.8  32.8  33.6  32.82 21.   32.61\n",
      " 33.3  33.8  21.   33.   21.   35.   21.   33.   21.2  21.   20.95 21.4\n",
      " 21.   33.   32.7  19.07 32.8  33.   33.   20.4  21.3  34.   21.   19.21\n",
      " 33.   21.4  20.95 34.   21.6  21.8  21.6  33.   21.   21.6  32.77 21.6\n",
      " 21.   20.4  33.8  20.36 33.1  20.8  21.58 11.63 33.   33.   33.   21.\n",
      " 21.   32.8  21.   33.2  34.2  33.   21.8  33.   21.04 21.   21.   20.\n",
      " 35.54 21.5  32.8  21.   21.2  33.   33.4  33.2  34.   19.7  33.   21.45\n",
      " 33.   21.2  32.7  20.7  20.   33.   33.   33.   33.   34.   32.83 19.\n",
      " 21.1  20.   21.8  33.4  32.85 33.   33.4  33.2  21.   21.   16.77 21.2\n",
      " 32.8  21.   33.6  19.   21.5  32.82 32.8  32.7  32.9  33.4  33.4  32.8\n",
      " 21.78 21.   21.5  21.42 21.   21.6  20.15 21.   33.   32.9  32.76 21.22\n",
      " 33.   32.87 20.   33.   21.6  20.6  33.   33.   33.   32.8 ]\n",
      "Number of outliers: 838\n",
      "\n",
      "\n",
      "Outliers in temp_min\n",
      "[20.  20.8 21.6 ... 33.  33.  32.4]\n",
      "Number of outliers: 1061\n",
      "\n",
      "\n",
      "Outliers in temp_max\n",
      "[34.  20.7 20.8 21.  21.4 21.  34.2 21.  19.  33.6 21.  21.  20.  34.\n",
      " 21.  39.  20.  21.  18.7 20.  20.  21.4 21.  21.  21.  21.  20.  21.4\n",
      " 21.  21.  20.  33.9 20.6 21.  20.  34.  34.6 34.2 21.  34.  20.8 21.\n",
      " 34.  20.4 21.  21.  34.2 21.  21.  21.  33.8 34.  21.  21.2 36.  20.\n",
      " 21.3 21.  21.  20.5 21.4 21.1 21.4 21.2 19.  21.  34.  34.  34.  33.8\n",
      " 19.4 21.  21.2 21.1 21.  34.  34.2 21.1 21.2 21.  34.  34.   3.  21.4\n",
      " 21.  21.4 21.  20.  20.  21.3 21.  21.2 20.  21.  21.3 34.  21.  33.6\n",
      " 34.  20.6 21.2 21.4 21.2 21.2 21.3 20.  19.  21.  21.4 20.  21.  21.\n",
      " 21.  34.1 21.  21.2 34.3 21.  20.  21.  34.  21.  34.  34.  34.  21.\n",
      " 34.  21.1 36.2 21.  34.  36.2 39.8 34.2 21.1 20.5 20.  21.  36.2 21.4\n",
      " 21.4 21.4 20.2 34.  21.  33.6 34.  21.  21.2 19.  19.8 21.  20.4 21.2\n",
      " 21.4 34.  21.  19.  34.  33.6 34.  21.  21.2 33.7 20.  21.2 21.  20.4\n",
      " 20.6 21.  34.  21.  34.  21.1 19.  21.2 21.2 20.  34.  21.  21.1 20.6\n",
      " 19.  20.8 21.  20.  21.  20.  35.  21.4 21.  21.  20.  21.  19.  34.\n",
      " 21.2 33.8 34.  21.  20.7 19.  33.8 34.1 19.  21.4 21.4 21.  35.4 34.\n",
      " 19.  34.  20.3 21.2 34.  21.2 21.  21.  34.  20.8 19.  21.2 19.6 20.\n",
      " 21.2 21.4 20.  19.  21.  21.2 21.  21.  34.  21.  19.  21.  21.2 20.8\n",
      " 34.  21.  21.4 21.  21.  21.  21.3 20.5 21.4 34.  21.1 20.  21.  33.8\n",
      " 20.8 21.1 21.  21.  20.  21.2 20.9 21.  20.  34.  21.  33.6 21.  33.8\n",
      " 21.  21.  35.  21.  21.4 21.  21.  21.4 21.  20.4 34.  21.  20.  21.4\n",
      " 21.  34.  21.  21.  20.4 33.8 20.6 34.  20.8 21.  21.  21.  34.2 21.1\n",
      " 21.  21.  20.  39.8 21.  21.4 34.  20.  21.2 20.7 20.  34.  19.  21.1\n",
      " 20.  21.  21.  21.2 21.  33.6 19.  21.  21.  20.3 21.  21.4 20.  20.6]\n",
      "Number of outliers: 322\n",
      "\n",
      "\n",
      "Outliers in pressure\n",
      "[1001.  1001.  1003.1 1003.  1002.7 1002.8 1001.  1001.  1003.  1003.1\n",
      " 1000.9 1003.1 1003.1 1003.1 1003.  1003.1 1003.  1001.  1001.  1003.1\n",
      " 1003.1 1002.  1002.  1002.  1018.  1003.  1003.  1001.  1000.  1003.1\n",
      " 1002.  1003.  1003.  1003.  1000.  1002.  1003.1 1002.  1002.6 1002.\n",
      " 1002.6 1002.3 1002.  1003.  1001.8 1002.  1018.  1003.1 1002.8 1003.1\n",
      " 1003.1 1018.  1001.  1002.5 1003.  1003.1 1003.1 1001.  1002.5 1003.1\n",
      " 1002.  1003.  1003.1 1003.1 1001.  1003.1 1001.  1003.1 1001.  1002.4\n",
      " 1001.9 1003.1 1003.1 1002.  1003.  1003.  1017.6 1001.  1003.1 1002.5\n",
      " 1002.  1003.1 1000.  1003.1 1003.  1001.1 1003.1 1003.1 1018.  1003.\n",
      " 1002.  1000.  1018.  1018.  1002.  1002.7 1003.  1003.1 1003.1 1003.\n",
      " 1003.1 1002.  1003.  1002.  1003.1 1002.  1003.1 1002.  1003.1 1017.6\n",
      " 1001.  1002.2 1003.1 1003.  1003.1 1003.  1003.1 1003.  1003.  1002.1\n",
      " 1002.7 1003.1 1002.  1003.1 1000.  1003.  1003.1 1003.1 1000.  1002.2\n",
      " 1002.  1003.  1003.  1001.1 1002.9 1002.  1003.1 1001.9 1002.  1001.2\n",
      " 1003.  1003.  1002.  1002.  1003.  1003.1 1003.1 1001.  1003.  1018.\n",
      " 1003.  1003.1 1002.7 1003.  1003.1 1002.  1003.  1002.  1001.  1003.1\n",
      " 1003.1 1003.1 1003.  1003.1 1003.1 1003.1 1003.  1002.  1003.  1003.1\n",
      " 1003.  1003.1 1003.  1003.  1003.1 1003.  1003.1 1000.  1002.8 1003.1\n",
      " 1003.  1000.5 1002.  1003.1 1019.  1003.  1003.1 1003.  1003.  1003.1\n",
      " 1002.9 1002.  1003.1 1003.1 1002.  1003.1 1000.  1018.  1003.  1003.1\n",
      " 1003.1 1002.  1003.  1003.  1002.  1002.3 1003.  1002.5 1003.1 1002.\n",
      " 1002.  1002.  1000.  1003.  1003.  1003.1 1002.  1002.  1003.  1002.\n",
      " 1003.  1000.3 1003.1 1003.1 1002.  1002.  1002.  1002.7 1018.  1001.5\n",
      " 1002.  1002.  1003.  1003.  1001.  1003.1 1003.  1018.  1000.6 1003.1\n",
      " 1002.  1000.  1002.  1003.1 1003.  1002.  1003.1 1001.  1001.5 1003.1\n",
      " 1003.  1002.  1002.  1003.1 1002.9 1002.  1002.  1003.1 1003.1 1003.\n",
      " 1000.  1003.1 1002.  1003.  1002.6 1002.4 1001.  1003.  1003.  1002.\n",
      " 1003.  1001.  1003.  1003.  1003.1 1002.  1002.  1003.1 1003.1 1003.1\n",
      " 1001.  1003.1 1003.  1002.  1002.1 1003.1 1000.  1003.  1003.  1002.\n",
      " 1003.  1001.  1003.1 1002.8 1003.1 1003.  1003.  1003.  1003.1 1001.3\n",
      " 1002.  1003.  1002.  1002.  1003.1 1003.1 1003.  1001.  1018.  1003.1\n",
      " 1003.  1003.  1003.1 1003.1 1003.  1002.9 1003.1 1003.1 1003.1 1003.\n",
      " 1000.  1003.1 1003.  1003.1 1003.1 1003.  1003.1 1001.  1003.  1018.\n",
      " 1002.  1001.  1003.  1002.3 1003.  1001.5 1002.  1003.1 1018.  1003.1\n",
      " 1003.  1003.  1003.1 1003.  1002.8 1002.4 1001.2 1002.  1003.  1003.\n",
      " 1001.  1001.  1003.1 1003.  1003.1 1003.  1003.  1003.1 1003.1 1003.\n",
      " 1000.9 1003.  1003.1 1003.1 1002.  1002.  1002.7 1001.3 1001.  1002.\n",
      " 1001.  1003.1 1003.1 1002.  1003.1 1003.1 1003.  1001.  1001.4 1003.1\n",
      " 1002.  1002.9 1002.  1002.  1003.  1003.1 1003.  1003.  1000.  1003.\n",
      " 1002.  1002.  1002.  1002.  1002.  1002.4 1003.1 1002.  1003.1 1003.\n",
      " 1003.  1003.  1002.2 1003.  1002.  1003.  1002.  1002.  1003.1 1003.1\n",
      " 1003.1 1003.  1003.1 1003.1 1003.1 1002.  1003.1 1003.1 1003.  1001.\n",
      " 1003.1 1003.  1003.1 1003.1 1001.  1003.1 1003.1 1003.1 1001.7 1003.\n",
      " 1003.  1003.1 1002.  1003.1 1018.  1002.  1001.7 1003.1 1002.6 1002.\n",
      " 1003.1 1000.9 1003.  1000.  1003.1 1002.  1000.  1002.7 1017.6 1002.\n",
      " 1003.  1003.1 1000.  1003.  1003.1 1001.5 1001.9 1003.  1003.1 1003.1\n",
      " 1000.  1002.  1003.  1003.1 1003.1 1003.  1001.  1003.  1001.  1003.1\n",
      " 1002.  1002.  1003.  1002.5 1002.  1003.  1003.  1003.  1001.  1003.1\n",
      " 1002.9 1003.  1002.1 1019.9 1002.  1003.  1003.  1003.1 1003.1 1002.\n",
      " 1003.  1018.  1002.  1003.1 1003.1 1002.  1003.1 1002.  1002.5 1002.\n",
      " 1003.  1002.2 1002.4 1003.1 1000.  1003.1 1003.1 1003.1 1003.  1002.\n",
      " 1001.7 1003.  1002.  1003.1 1001.  1003.1 1002.3 1002.6 1003.1 1002.\n",
      " 1003.1 1003.1 1003.  1003.1 1003.  1002.  1001.9 1003.  1002.4 1003.1\n",
      " 1003.  1001.  1003.  1002.5 1002.  1003.  1003.1 1002.7 1003.1 1003.1\n",
      " 1003.  1002.  1003.  1002.6 1002.  1002.4 1003.  1001.5 1001.8 1003.\n",
      " 1003.  1003.1 1002.  1003.1 1003.1 1001.  1003.1 1002.1 1003.1 1003.1\n",
      " 1003.  1003.1 1003.1 1002.6 1001.  1003.  1003.1 1003.  1019.9 1003.\n",
      " 1003.1 1003.1 1003.1 1003.  1003.  1002.  1003.1 1003.1 1003.1 1003.\n",
      " 1003.1 1001.  1003.1 1003.1 1003.1 1002.8 1002.1 1002.  1003.  1003.1\n",
      " 1002.  1003.  1002.  1003.  1002.  1003.  1003.1 1003.1 1003.1 1000.\n",
      " 1003.1 1003.  1002.  1001.  1002.9 1002.1 1002.  1001.  1001.4 1003.\n",
      " 1003.1 1002.  1003.  1001.8 1003.  1003.1 1003.1 1003.1 1003.1  998.4\n",
      " 1003.1 1001.  1000.5 1003.  1002.8 1001.6 1002.  1003.1 1003.  1002.\n",
      " 1003.1 1003.  1002.  1003.1 1003.1 1003.1 1003.1 1003.1 1002.  1003.\n",
      " 1003.  1002.  1003.  1003.1 1003.  1003.  1001.1 1003.  1003.  1002.9\n",
      " 1003.1 1003.1 1003.  1003.  1002.  1000.  1001.  1003.1 1003.1 1003.1\n",
      " 1002.  1003.  1003.1 1002.  1003.  1003.1 1002.  1003.1 1001.9 1018.\n",
      " 1003.1 1003.  1002.8 1003.  1003.  1002.  1001.7 1003.1 1001.1 1002.\n",
      " 1003.1 1002.9]\n",
      "Number of outliers: 682\n",
      "\n",
      "\n",
      "Outliers in humidity\n",
      "[48 51 52 52 51 49 40 52 46 52 51 49 52 50 52 52 51 52 52 51 35 51 52 52\n",
      " 19 47 52 52 47 46 42 50 50 49 52 51 52 51 51 51 49 51 50 51 48 48 52 51\n",
      " 51 49 48 52 52 45 45 51 51 47 52 52 49 52 52 51 41 51 52 52 51 52 52 52\n",
      " 51 49 52 52 51 43 51 51 52 49 46 48 52 52 49 50 39 49 52 51 49 51 52 51\n",
      " 51 52 28 51 51 51 52 51 35 52 28 52 51 48 51 51 51 49 52 51 52 39 45 49\n",
      " 51 52 52 52 51 51 52 48 51 52 52 51 52 46 48 50 52 51 49 52 52 52 52 50\n",
      " 51 51 52 52 52 51]\n",
      "Number of outliers: 150\n",
      "\n",
      "\n",
      "Outliers in wind_speed\n",
      "[ 9.8  10.8   9.96 ... 10.8   9.04 10.29]\n",
      "Number of outliers: 2219\n",
      "\n",
      "\n",
      "Outliers in wind_deg\n",
      "[]\n",
      "Number of outliers: 0\n",
      "\n",
      "\n"
     ]
    }
   ],
   "source": [
    "# Pada data train\n",
    "numeric_cols = df_train.select_dtypes(include=\"number\").columns\n",
    "for column in numeric_cols:\n",
    "    # Menghitung IQR\n",
    "    Q1 = df_train[column].quantile(0.25)\n",
    "    Q3 = df_train[column].quantile(0.75)\n",
    "    IQR = Q3 - Q1\n",
    "    \n",
    "    # Menghitung lower dan upper bounds\n",
    "    lower_bound = Q1 - 1.5 * IQR\n",
    "    upper_bound = Q3 + 1.5 * IQR\n",
    "    \n",
    "    # Identifikasi outlier\n",
    "    outliers = df_train[(df_train[column] < lower_bound) | (df_train[column] > upper_bound)]\n",
    "    \n",
    "    # Menampilkan outlier\n",
    "    print(\"Outliers in\", column)\n",
    "    print(outliers[column].values)\n",
    "    print(\"Number of outliers:\", len(outliers))\n",
    "    print(\"\\n\")\n"
   ]
  },
  {
   "attachments": {},
   "cell_type": "markdown",
   "metadata": {},
   "source": [
    "Terlihat pada hasil yang ditampilkan di atas, jumlah outlier dari masing-masing feature dari dataset keseluruhan adalah sebagai berikut:\n",
    "1. hour = 0\n",
    "2. temp = 1458\n",
    "3. temp_min = 1716\n",
    "4. temp_max = 547\n",
    "5. pressure = 1067\n",
    "6. humidity = 231\n",
    "7. wind_speed = 3439\n",
    "8. wind_deg = 0\n",
    "\n",
    "Terlihat pada hasil yang ditampilkan di atas, jumlah outlier dari masing-masing feature dari data train adalah sebagai berikut:\n",
    "1. hour = 0\n",
    "2. temp = 838\n",
    "3. temp_min =1061\n",
    "4. temp_max =322\n",
    "5. pressure =682\n",
    "6. humidity = 150\n",
    "7. wind_speed = 2219\n",
    "8. wind_deg = 0\n",
    "\n",
    "Kami tidak memeriksa untuk outliers pada df_val karena kami berasumsi tidak akan digunakan pada optimasi berikutnya dalam kasus outliers."
   ]
  },
  {
   "cell_type": "code",
   "execution_count": 14,
   "metadata": {},
   "outputs": [
    {
     "name": "stdout",
     "output_type": "stream",
     "text": [
      "Index(['hour', 'temp', 'temp_min', 'temp_max', 'pressure', 'humidity',\n",
      "       'wind_speed', 'wind_deg', 'raining'],\n",
      "      dtype='object')\n"
     ]
    },
    {
     "data": {
      "text/plain": [
       "<AxesSubplot:xlabel='hour'>"
      ]
     },
     "execution_count": 14,
     "metadata": {},
     "output_type": "execute_result"
    },
    {
     "data": {
      "image/png": "[encoded data removed]",
      "text/plain": [
       "<Figure size 432x288 with 1 Axes>"
      ]
     },
     "metadata": {
      "needs_background": "light"
     },
     "output_type": "display_data"
    }
   ],
   "source": [
    "#Outliers plot\n",
    "print(df_train.columns)\n",
    "feats =['hour', 'temp', 'temp_min', 'temp_max', 'pressure', 'humidity',\n",
    "       'wind_speed', 'wind_deg', 'raining']\n",
    "sns.boxplot(x=df_train['hour'])"
   ]
  },
  {
   "cell_type": "code",
   "execution_count": 15,
   "metadata": {},
   "outputs": [
    {
     "data": {
      "text/plain": [
       "<AxesSubplot:xlabel='temp'>"
      ]
     },
     "execution_count": 15,
     "metadata": {},
     "output_type": "execute_result"
    },
    {
     "data": {
      "image/png": "[encoded data removed]",
      "text/plain": [
       "<Figure size 432x288 with 1 Axes>"
      ]
     },
     "metadata": {
      "needs_background": "light"
     },
     "output_type": "display_data"
    }
   ],
   "source": [
    "sns.boxplot(x=df_train['temp'])"
   ]
  },
  {
   "cell_type": "code",
   "execution_count": 212,
   "metadata": {},
   "outputs": [
    {
     "data": {
      "text/plain": [
       "<AxesSubplot:xlabel='temp_min'>"
      ]
     },
     "execution_count": 212,
     "metadata": {},
     "output_type": "execute_result"
    },
    {
     "data": {
      "image/png": "[encoded data removed]",
      "text/plain": [
       "<Figure size 432x288 with 1 Axes>"
      ]
     },
     "metadata": {
      "needs_background": "light"
     },
     "output_type": "display_data"
    }
   ],
   "source": [
    "sns.boxplot(x=df_train['temp_min'])"
   ]
  },
  {
   "cell_type": "code",
   "execution_count": 213,
   "metadata": {},
   "outputs": [
    {
     "data": {
      "text/plain": [
       "<AxesSubplot:xlabel='temp_max'>"
      ]
     },
     "execution_count": 213,
     "metadata": {},
     "output_type": "execute_result"
    },
    {
     "data": {
      "image/png": "[encoded data removed]",
      "text/plain": [
       "<Figure size 432x288 with 1 Axes>"
      ]
     },
     "metadata": {
      "needs_background": "light"
     },
     "output_type": "display_data"
    }
   ],
   "source": [
    "sns.boxplot(x=df_train['temp_max'])"
   ]
  },
  {
   "cell_type": "code",
   "execution_count": 214,
   "metadata": {},
   "outputs": [
    {
     "data": {
      "text/plain": [
       "<AxesSubplot:xlabel='pressure'>"
      ]
     },
     "execution_count": 214,
     "metadata": {},
     "output_type": "execute_result"
    },
    {
     "data": {
      "image/png": "[encoded data removed]",
      "text/plain": [
       "<Figure size 432x288 with 1 Axes>"
      ]
     },
     "metadata": {
      "needs_background": "light"
     },
     "output_type": "display_data"
    }
   ],
   "source": [
    "sns.boxplot(x=df_train['pressure'])"
   ]
  },
  {
   "cell_type": "code",
   "execution_count": 215,
   "metadata": {},
   "outputs": [
    {
     "data": {
      "text/plain": [
       "<AxesSubplot:xlabel='humidity'>"
      ]
     },
     "execution_count": 215,
     "metadata": {},
     "output_type": "execute_result"
    },
    {
     "data": {
      "image/png": "[encoded data removed]",
      "text/plain": [
       "<Figure size 432x288 with 1 Axes>"
      ]
     },
     "metadata": {
      "needs_background": "light"
     },
     "output_type": "display_data"
    }
   ],
   "source": [
    "sns.boxplot(x=df_train['humidity'])"
   ]
  },
  {
   "cell_type": "code",
   "execution_count": 216,
   "metadata": {},
   "outputs": [
    {
     "data": {
      "text/plain": [
       "<AxesSubplot:xlabel='wind_speed'>"
      ]
     },
     "execution_count": 216,
     "metadata": {},
     "output_type": "execute_result"
    },
    {
     "data": {
      "image/png": "[encoded data removed]",
      "text/plain": [
       "<Figure size 432x288 with 1 Axes>"
      ]
     },
     "metadata": {
      "needs_background": "light"
     },
     "output_type": "display_data"
    }
   ],
   "source": [
    "sns.boxplot(x=df_train['wind_speed'])"
   ]
  },
  {
   "cell_type": "code",
   "execution_count": 217,
   "metadata": {},
   "outputs": [
    {
     "data": {
      "text/plain": [
       "<AxesSubplot:xlabel='wind_deg'>"
      ]
     },
     "execution_count": 217,
     "metadata": {},
     "output_type": "execute_result"
    },
    {
     "data": {
      "image/png": "[encoded data removed]",
      "text/plain": [
       "<Figure size 432x288 with 1 Axes>"
      ]
     },
     "metadata": {
      "needs_background": "light"
     },
     "output_type": "display_data"
    }
   ],
   "source": [
    "sns.boxplot(x=df_train['wind_deg'])"
   ]
  },
  {
   "attachments": {},
   "cell_type": "markdown",
   "metadata": {},
   "source": [
    "Kami juga hanya memeriksa outliers untuk data train dengan alasan yang akan dihandling adalah outliers pada data train"
   ]
  },
  {
   "attachments": {},
   "cell_type": "markdown",
   "metadata": {},
   "source": [
    "### Balance of Data"
   ]
  },
  {
   "cell_type": "code",
   "execution_count": 16,
   "metadata": {},
   "outputs": [
    {
     "name": "stdout",
     "output_type": "stream",
     "text": [
      "False    230023\n",
      "True      34901\n",
      "Name: raining, dtype: int64\n"
     ]
    },
    {
     "data": {
      "image/png": "[encoded data removed]",
      "text/plain": [
       "<Figure size 432x288 with 1 Axes>"
      ]
     },
     "metadata": {},
     "output_type": "display_data"
    }
   ],
   "source": [
    "# Periksa kolom label\n",
    "\n",
    "label_counts = data[\"raining\"].value_counts()\n",
    "print(label_counts)\n",
    "label_counts.plot(kind=\"pie\", autopct='%1.1f%%')\n",
    "plt.axis('equal')\n",
    "plt.title(\"Distribusi Kelas Raining\" )\n",
    "plt.show()"
   ]
  },
  {
   "cell_type": "code",
   "execution_count": 17,
   "metadata": {},
   "outputs": [
    {
     "name": "stdout",
     "output_type": "stream",
     "text": [
      "False    147238\n",
      "True      22313\n",
      "Name: raining, dtype: int64\n"
     ]
    },
    {
     "data": {
      "image/png": "[encoded data removed]",
      "text/plain": [
       "<Figure size 432x288 with 1 Axes>"
      ]
     },
     "metadata": {},
     "output_type": "display_data"
    }
   ],
   "source": [
    "# Periksa kolom label\n",
    "\n",
    "label_counts = df_train[\"raining\"].value_counts()\n",
    "print(label_counts)\n",
    "label_counts.plot(kind=\"pie\", autopct='%1.1f%%')\n",
    "plt.axis('equal')\n",
    "plt.title(\"Distribusi Kelas Raining Df_train\" )\n",
    "plt.show()"
   ]
  },
  {
   "attachments": {},
   "cell_type": "markdown",
   "metadata": {},
   "source": [
    "Pada pie chart di atas, terlihat bahwa 13,2% row kelas target bernilai True. Di sisi lain, 86,8% row kelas target bernilai False. Hal ini menunjukkan bahwa terdapat ketidakseimbangan data yang cukup signifikan sehingga dapat disimpulkan terjadi imbalance pada dataset."
   ]
  },
  {
   "attachments": {},
   "cell_type": "markdown",
   "metadata": {},
   "source": [
    "### No 3\n",
    "\n",
    "- Duplicate value\n",
    "\n",
    "Berdasarkan data, diketahui terdapat  duplikasi data sebanyak 7253 atau sebesar 2.74 %. Menurut kami solusi untuk mengatasi masalah ini adalah dengan melakukan drop data yang terduplikasi.\n",
    "\n",
    "- Missing Value\n",
    "\n",
    "Tidak ada missing value. \n",
    "\n",
    "- Outliers \n",
    "\n",
    "Beberapa metode yang kami ketahui untuk menangani outliers : \n",
    "Penghapusan outlier: Data outlier dapat dihapus dari dataset untuk mengurangi efeknya pada analisis. Namun, teknik ini dapat mengurangi jumlah data yang tersedia dan mengurangi akurasi model.\n",
    "\n",
    "Transformasi data: Data outlier dapat ditransformasi ke nilai yang lebih sesuai dengan data lain dalam dataset. Contohnya, dengan menggunakan transformasi logaritmik atau inverse.\n",
    "\n",
    "Imputasi data: Data outlier dapat diimputasi dengan menggunakan metode seperti mean atau median. Namun, teknik ini dapat mempengaruhi distribusi data dan mengurangi akurasi model.\n",
    "\n",
    "Penggunaan model tahan outlier: Model tahan outlier seperti robust regression dapat digunakan untuk meminimalkan efek outlier pada analisis.\n",
    "\n",
    "Berdasarkan data diatas, terdapat beberapa fitur yang mempunyai outliers. Korelasi antar fitur juga tidak terlalu signfikan yakni relatif pada rentang 0.2 sampai 0.3 atau justru dibawah rentang tersebut (hanya beberapa hubungan). Oleh karena itu, kami memutuskan untuk menghapus data yang termasuk outlier tersebut. \n",
    "\n",
    "- Balance of Data\n",
    "\n",
    "Pada kasus ini terjadi ketidakseimbangan dataset (imbalance dataset) pada kolom target ini tidak terpenuhi, maka dapat mempengaruhi akurasi model yang dihasilkan. Oleh karena itu, untuk menangani ketidakseimbangan data pada kolom target, beberapa rencana penanganan yang dapat dilakukan adalah sebagai berikut:\n",
    "1. Oversampling\n",
    "2. Undersampling"
   ]
  },
  {
   "attachments": {},
   "cell_type": "markdown",
   "metadata": {},
   "source": [
    "### No 4\n",
    "Teknik _encoding_ yang digunakan terhadap data yang disediakan"
   ]
  },
  {
   "cell_type": "code",
   "execution_count": 220,
   "metadata": {},
   "outputs": [
    {
     "data": {
      "text/plain": [
       "hour            int64\n",
       "temp          float64\n",
       "temp_min      float64\n",
       "temp_max      float64\n",
       "pressure      float64\n",
       "humidity        int64\n",
       "wind_speed    float64\n",
       "wind_deg        int64\n",
       "raining          bool\n",
       "dtype: object"
      ]
     },
     "execution_count": 220,
     "metadata": {},
     "output_type": "execute_result"
    }
   ],
   "source": [
    "data.dtypes"
   ]
  },
  {
   "attachments": {},
   "cell_type": "markdown",
   "metadata": {},
   "source": [
    "Pada hasil di atas, feature-feature yang ada memiliki berbagai macam tipe data. Namun, menurut kami, pada dataset ini encoding hanya diperlukan pada kelas target \"Raining\". Kelas target \"Raining\" yang berjenis binary akan diencoding menjadi tipe data numerik diskrit dengan value 0 untuk False dan 1 untuk True."
   ]
  },
  {
   "attachments": {},
   "cell_type": "markdown",
   "metadata": {},
   "source": [
    "### No 5\n",
    "Desain Eksperimen\n",
    "\n",
    "## Tujuan Eksperimen\n",
    "Memprediksi terjadinya hujan berdasarkan faktor-faktor seperti temperatur, kelembapan, dan kecepatan angin di Denpasar, Bali.\n",
    "\n",
    "## Variabel Dependen dan Independen\n",
    "- Dependen: Raining\n",
    "- Independen: temp, temp_min, temp_max, pressure, humidity, wind_speed, wind_deg\n",
    "\n",
    "## Strategi Eksperimen\n",
    "1. Melakukan penanganan terhadap duplicate value, outlier, balance of data, dan encoding\n",
    "2. Menentukan metrics eksperimen\n",
    "3. Membuat model Logistic Regression sebagai baseline dan melakukan prediksi dari model tersebut\n",
    "4. Melakukan evaluasi model baseline dan menampilkan confusion matrix\n",
    "5. Melakukan pembelajaran dengan model lain, yaitu Support Vector Machine (SVM)\n",
    "6. Melakukan hyperparameter tuning model dengan menggunakan Grid Search\n",
    "7. Melakukan evaluasi hasil hyperparameter tuning model\n",
    "8. Melakukan oversampling pada kelas minoritas dan undersampling pada kelas mayoritas untuk penanganan\n",
    "9. Melakukan pembelajaran dengan model baseline menggunakan data pada nomor 8\n",
    "10. Melakukan evaluasi hasil pembelajaran pada nomor 9\n",
    "11. Menggabungkan beberapa model dengan menggunakan teknik Soft Voting, Hard Voting, dan Stacking\n",
    "12. Melakukan evaluasi dari hasil strategi nomor 11\n",
    "\n",
    "## Skema Validasi\n",
    "Skema validasi yang digunakan adalah skema 10-fold Cross Validation dari dataset yang ada."
   ]
  },
  {
   "attachments": {},
   "cell_type": "markdown",
   "metadata": {},
   "source": [
    "Bagian 2"
   ]
  },
  {
   "attachments": {},
   "cell_type": "markdown",
   "metadata": {},
   "source": [
    "### Penanganan Missing Value \n",
    "Tidak ada nilai missing value"
   ]
  },
  {
   "attachments": {},
   "cell_type": "markdown",
   "metadata": {},
   "source": [
    "### Penanganan Duplicate Value\n",
    "Melakukan drop data yang mengalami duplicate value"
   ]
  },
  {
   "attachments": {},
   "cell_type": "markdown",
   "metadata": {},
   "source": [
    "Kami menghapus df_train karena akan digunakan dalam proses selanjutnya, sedangkan df_val dan df_test dengan tujuan untuk mempercepat proses pembelajaran"
   ]
  },
  {
   "cell_type": "code",
   "execution_count": 221,
   "metadata": {},
   "outputs": [],
   "source": [
    "df_train= df_train.drop_duplicates()\n",
    "df_val=df_val.drop_duplicates()\n",
    "df_test=df_test.drop_duplicates()\n"
   ]
  },
  {
   "cell_type": "code",
   "execution_count": 222,
   "metadata": {},
   "outputs": [
    {
     "name": "stdout",
     "output_type": "stream",
     "text": [
      "Empty DataFrame\n",
      "Columns: [hour, temp, temp_min, temp_max, pressure, humidity, wind_speed, wind_deg, raining]\n",
      "Index: []\n",
      "\n",
      "Jumlah df_train duplicated: 0\n",
      "Persentase df_train yang duplicate adalah sebesar 0.00 %\n"
     ]
    }
   ],
   "source": [
    "print(df_train[df_train.duplicated()])\n",
    "print(f\"\\nJumlah df_train duplicated: {df_train.duplicated().sum()}\")\n",
    "percentage = (df_train.duplicated().sum() / len(df_train)) * 100\n",
    "print(\"Persentase df_train yang duplicate adalah sebesar {:.2f} %\".format(percentage))"
   ]
  },
  {
   "attachments": {},
   "cell_type": "markdown",
   "metadata": {},
   "source": [
    "### Penanganan Outlier"
   ]
  },
  {
   "cell_type": "code",
   "execution_count": 18,
   "metadata": {},
   "outputs": [],
   "source": [
    "numeric_cols = df_train.select_dtypes(include=\"number\").columns\n",
    "for column in numeric_cols:\n",
    "    # Menghitung IQR\n",
    "    Q1 = df_train[column].quantile(0.25)\n",
    "    Q3 = df_train[column].quantile(0.75)\n",
    "    IQR = Q3 - Q1\n",
    "    \n",
    "    # Menghitung lower dan upper bounds\n",
    "    lower_bound = Q1 - 1.5 * IQR\n",
    "    upper_bound = Q3 + 1.5 * IQR\n",
    "    \n",
    "    # Identifikasi outlier\n",
    "    outliers = df_train[(df_train[column] < lower_bound) | (df_train[column] > upper_bound)]\n",
    "    df_train.drop(index=list(outliers.index.values), inplace=True)\n",
    "\n"
   ]
  },
  {
   "attachments": {},
   "cell_type": "markdown",
   "metadata": {},
   "source": [
    "Memeriksa Data Outliers yang telah di handling"
   ]
  },
  {
   "cell_type": "code",
   "execution_count": 21,
   "metadata": {},
   "outputs": [
    {
     "data": {
      "text/plain": [
       "164690"
      ]
     },
     "execution_count": 21,
     "metadata": {},
     "output_type": "execute_result"
    }
   ],
   "source": [
    "df_train.shape[0]"
   ]
  },
  {
   "attachments": {},
   "cell_type": "markdown",
   "metadata": {},
   "source": [
    "Encoding untuk target function"
   ]
  },
  {
   "attachments": {},
   "cell_type": "markdown",
   "metadata": {},
   "source": [
    "Kami melakukan encode untuk ketiganya untuk meningkatkan performa dalam pembelajaran."
   ]
  },
  {
   "cell_type": "code",
   "execution_count": 225,
   "metadata": {},
   "outputs": [
    {
     "data": {
      "text/html": [
       "<div>\n",
       "<style scoped>\n",
       "    .dataframe tbody tr th:only-of-type {\n",
       "        vertical-align: middle;\n",
       "    }\n",
       "\n",
       "    .dataframe tbody tr th {\n",
       "        vertical-align: top;\n",
       "    }\n",
       "\n",
       "    .dataframe thead th {\n",
       "        text-align: right;\n",
       "    }\n",
       "</style>\n",
       "<table border=\"1\" class=\"dataframe\">\n",
       "  <thead>\n",
       "    <tr style=\"text-align: right;\">\n",
       "      <th></th>\n",
       "      <th>hour</th>\n",
       "      <th>temp</th>\n",
       "      <th>temp_min</th>\n",
       "      <th>temp_max</th>\n",
       "      <th>pressure</th>\n",
       "      <th>humidity</th>\n",
       "      <th>wind_speed</th>\n",
       "      <th>wind_deg</th>\n",
       "      <th>raining</th>\n",
       "    </tr>\n",
       "  </thead>\n",
       "  <tbody>\n",
       "    <tr>\n",
       "      <th>77457</th>\n",
       "      <td>2</td>\n",
       "      <td>32.00</td>\n",
       "      <td>32.00</td>\n",
       "      <td>32.00</td>\n",
       "      <td>1010.2</td>\n",
       "      <td>74</td>\n",
       "      <td>3.10</td>\n",
       "      <td>100</td>\n",
       "      <td>0</td>\n",
       "    </tr>\n",
       "    <tr>\n",
       "      <th>227083</th>\n",
       "      <td>2</td>\n",
       "      <td>27.94</td>\n",
       "      <td>27.90</td>\n",
       "      <td>28.00</td>\n",
       "      <td>1013.0</td>\n",
       "      <td>78</td>\n",
       "      <td>6.20</td>\n",
       "      <td>110</td>\n",
       "      <td>0</td>\n",
       "    </tr>\n",
       "    <tr>\n",
       "      <th>165854</th>\n",
       "      <td>11</td>\n",
       "      <td>27.42</td>\n",
       "      <td>27.00</td>\n",
       "      <td>27.70</td>\n",
       "      <td>1010.2</td>\n",
       "      <td>88</td>\n",
       "      <td>2.60</td>\n",
       "      <td>120</td>\n",
       "      <td>0</td>\n",
       "    </tr>\n",
       "    <tr>\n",
       "      <th>71017</th>\n",
       "      <td>7</td>\n",
       "      <td>29.00</td>\n",
       "      <td>29.00</td>\n",
       "      <td>29.00</td>\n",
       "      <td>1010.8</td>\n",
       "      <td>79</td>\n",
       "      <td>3.60</td>\n",
       "      <td>100</td>\n",
       "      <td>0</td>\n",
       "    </tr>\n",
       "    <tr>\n",
       "      <th>126064</th>\n",
       "      <td>12</td>\n",
       "      <td>27.58</td>\n",
       "      <td>27.58</td>\n",
       "      <td>27.58</td>\n",
       "      <td>1007.0</td>\n",
       "      <td>84</td>\n",
       "      <td>7.45</td>\n",
       "      <td>108</td>\n",
       "      <td>0</td>\n",
       "    </tr>\n",
       "  </tbody>\n",
       "</table>\n",
       "</div>"
      ],
      "text/plain": [
       "        hour   temp  temp_min  temp_max  pressure  humidity  wind_speed  \\\n",
       "77457      2  32.00     32.00     32.00    1010.2        74        3.10   \n",
       "227083     2  27.94     27.90     28.00    1013.0        78        6.20   \n",
       "165854    11  27.42     27.00     27.70    1010.2        88        2.60   \n",
       "71017      7  29.00     29.00     29.00    1010.8        79        3.60   \n",
       "126064    12  27.58     27.58     27.58    1007.0        84        7.45   \n",
       "\n",
       "        wind_deg  raining  \n",
       "77457        100        0  \n",
       "227083       110        0  \n",
       "165854       120        0  \n",
       "71017        100        0  \n",
       "126064       108        0  "
      ]
     },
     "execution_count": 225,
     "metadata": {},
     "output_type": "execute_result"
    }
   ],
   "source": [
    "# inisialisasi label encoder\n",
    "le = LabelEncoder()\n",
    "\n",
    "# encoding kolom kategorikal\n",
    "df_train[\"raining\"] = le.fit_transform(df_train[\"raining\"].astype(str))\n",
    "# encoding kolom kategorikal\n",
    "df_test[\"raining\"] = le.fit_transform(df_test[\"raining\"].astype(str))\n",
    "# encoding kolom kategorikal\n",
    "df_val[\"raining\"] = le.fit_transform(df_val[\"raining\"].astype(str))\n",
    "\n",
    "df_train.head()\n",
    "df_test.head()\n",
    "df_val.head()"
   ]
  },
  {
   "cell_type": "code",
   "execution_count": 25,
   "metadata": {},
   "outputs": [],
   "source": [
    "X_train = df_train.drop(['raining'], axis=1)\n",
    "y_train = df_train['raining']\n",
    "\n",
    "X_val = df_val.drop(['raining'], axis=1)\n",
    "y_val = df_val['raining']\n",
    "\n",
    "X_test = df_test.drop(['raining'], axis=1)\n",
    "y_test = df_test['raining']"
   ]
  },
  {
   "attachments": {},
   "cell_type": "markdown",
   "metadata": {},
   "source": [
    "### Membuat baseline model dengan logistic regression"
   ]
  },
  {
   "cell_type": "code",
   "execution_count": 26,
   "metadata": {},
   "outputs": [
    {
     "name": "stdout",
     "output_type": "stream",
     "text": [
      "NILAI METRICS\n",
      "\n",
      "Nilai Precision: 0.5952941176470589\n",
      "Nilai Recall: 0.13560836162229767\n",
      "Nilai accuracy: 0.8736906671699538\n",
      "Nilai F1 Score: 0.22089639115250292\n",
      "\n",
      "CONFUSION MATRIX\n",
      "\n"
     ]
    },
    {
     "data": {
      "image/png": "[encoded data removed]",
      "text/plain": [
       "<Figure size 432x288 with 2 Axes>"
      ]
     },
     "metadata": {
      "needs_background": "light"
     },
     "output_type": "display_data"
    },
    {
     "name": "stdout",
     "output_type": "stream",
     "text": [
      "CROSS VALIDATION\n",
      "\n",
      "Menghasilakan akurasi sebesar 0.87 dengan standar deviasi sebesar 0.00\n"
     ]
    }
   ],
   "source": [
    "log_reg = LogisticRegression(random_state=0).fit(X_train, y_train)\n",
    "\n",
    "pred = log_reg.predict(X_val)\n",
    "\n",
    "# Nilai metrics\n",
    "print(\"NILAI METRICS\\n\")\n",
    "print(f\"Nilai Precision: {precision_score(y_val, pred)}\")\n",
    "print(f\"Nilai Recall: {recall_score(y_val, pred)}\")\n",
    "print(f\"Nilai accuracy: {accuracy_score(y_val, pred)}\")\n",
    "print(f\"Nilai F1 Score: {f1_score(y_val, pred)}\")\n",
    "\n",
    "# Confusion matrix\n",
    "print(\"\\nCONFUSION MATRIX\\n\")\n",
    "con_matrix = confusion_matrix(y_val, pred)\n",
    "ConfusionMatrixDisplay(confusion_matrix=con_matrix).plot()\n",
    "plt.show()\n",
    "\n",
    "# Cross validation\n",
    "print(\"CROSS VALIDATION\\n\")\n",
    "scores = cross_val_score(log_reg, X_train, y_train, cv=10)\n",
    "print(\"Menghasilakan akurasi sebesar %0.2f dengan standar deviasi sebesar %0.2f\" % (scores.mean(), scores.std()))"
   ]
  },
  {
   "attachments": {},
   "cell_type": "markdown",
   "metadata": {},
   "source": [
    "### Melakukan pembelajaran dengan model lain (SVM)"
   ]
  },
  {
   "attachments": {},
   "cell_type": "markdown",
   "metadata": {},
   "source": [
    "### Melakukan oversampling untuk menangani imbalance dataset"
   ]
  },
  {
   "cell_type": "code",
   "execution_count": 228,
   "metadata": {},
   "outputs": [],
   "source": [
    "# # Melakukan oversampling pada kelas minoritas data latih\n",
    "# ros = RandomOverSampler(sampling_strategy=\"not majority\", random_state=0)\n",
    "# over_x_train, over_y_train = ros.fit_resample(X_train, y_train)\n",
    "\n",
    "# # Melakukan training dengan model baseline \n",
    "# logistic_reg = LogisticRegression(random_state=0, max_iter=1000).fit(over_x_train, over_y_train)\n",
    "# pred = logistic_reg.predict(X_val)\n",
    "\n",
    "# print(classification_report(y_val, pred))\n",
    "# print(\"Nilai precision:\", precision_score(y_val, pred))\n",
    "# print(\"Nilai recall:\", recall_score(y_val, pred))\n",
    "# print(\"Nilai F1 score:\", f1_score(y_val, pred))\n",
    "# print(\"Nilai accuracy:\",accuracy_score(y_val, pred))\n",
    "\n",
    "# # Confusion matrix\n",
    "# print(\"\\nCONFUSION MATRIX\\n\")\n",
    "# con_matrix = confusion_matrix(y_val, pred)\n",
    "# ConfusionMatrixDisplay(confusion_matrix=con_matrix).plot()\n",
    "# plt.show()\n",
    "\n",
    "# # Cross validation\n",
    "# print(\"CROSS VALIDATION\\n\")\n",
    "# scores = cross_val_score(logistic_reg, X_train, y_train, cv=10)\n",
    "# print(\"Menghasilakan akurasi sebesar %0.2f dengan standar deviasi sebesar %0.2f\" % (scores.mean(), scores.std()))"
   ]
  },
  {
   "attachments": {},
   "cell_type": "markdown",
   "metadata": {},
   "source": [
    "### Melakukan undersampling untuk menangani imbalance dataset"
   ]
  },
  {
   "cell_type": "code",
   "execution_count": 229,
   "metadata": {},
   "outputs": [],
   "source": [
    "# rus = RandomUnderSampler(sampling_strategy=1, random_state=0)\n",
    "# under_x_train, under_y_train = rus.fit_resample(X_train, y_train)\n",
    "\n",
    "# # Melakukan training dengan model baseline \n",
    "# logistic_reg = LogisticRegression(random_state=0, max_iter=1000).fit(under_x_train, under_y_train)\n",
    "# pred = logistic_reg.predict(X_val)\n",
    "\n",
    "# print(classification_report(y_val, pred))\n",
    "# print(\"Nilai precision:\", precision_score(y_val, pred))\n",
    "# print(\"Nilai recall:\", recall_score(y_val, pred))\n",
    "# print(\"Nilai F1 score:\", f1_score(y_val, pred))\n",
    "# print(\"Nilai accuracy:\",accuracy_score(y_val, pred))\n",
    "\n",
    "# # Confusion matrix\n",
    "# print(\"\\nCONFUSION MATRIX\\n\")\n",
    "# con_matrix = confusion_matrix(y_val, pred)\n",
    "# ConfusionMatrixDisplay(confusion_matrix=con_matrix).plot()\n",
    "# plt.show()\n",
    "\n",
    "# # Cross validation\n",
    "# print(\"CROSS VALIDATION\\n\")\n",
    "# scores = cross_val_score(logistic_reg, X_train, y_train, cv=5)\n",
    "# print(\"Menghasilakan akurasi sebesar %0.2f dengan standar deviasi sebesar %0.2f\" % (scores.mean(), scores.std()))"
   ]
  },
  {
   "attachments": {},
   "cell_type": "markdown",
   "metadata": {},
   "source": [
    "### Melakukan pembelajaran dengan model lain (SVM)\n",
    "\n"
   ]
  },
  {
   "cell_type": "code",
   "execution_count": 230,
   "metadata": {},
   "outputs": [],
   "source": [
    "svc = SVC(random_state=0).fit(X_train, y_train)\n",
    "prediction = svc.predict(X_test)\n",
    "\n",
    "print(classification_report(y_val, pred))\n",
    "print(\"Nilai precision:\", precision_score(y_val, pred))\n",
    "print(\"Nilai recall:\", recall_score(y_val, pred))\n",
    "print(\"Nilai F1 score:\", f1_score(y_val, pred))\n",
    "print(\"Nilai accuracy:\",accuracy_score(y_val, pred))\n",
    "\n",
    "# Confusion matrix\n",
    "print(\"\\nCONFUSION MATRIX\\n\")\n",
    "con_matrix = confusion_matrix(y_val, pred)\n",
    "ConfusionMatrixDisplay(confusion_matrix=con_matrix).plot()\n",
    "plt.show()\n",
    "\n",
    "# Cross validation\n",
    "print(\"CROSS VALIDATION\\n\")\n",
    "scores = cross_val_score(svc, X_train, y_train, cv=10)\n",
    "print(\"Menghasilakan akurasi sebesar %0.2f dengan standar deviasi sebesar %0.2f\" % (scores.mean(), scores.std()))\n"
   ]
  },
  {
   "attachments": {},
   "cell_type": "markdown",
   "metadata": {},
   "source": [
    "### Melakukan hyperparameter tuning model dengan menggunakan Grid Search"
   ]
  },
  {
   "cell_type": "code",
   "execution_count": null,
   "metadata": {},
   "outputs": [],
   "source": [
    "param_grid = {'kernel': ['sigmoid', 'rbf', 'poly', 'linear'], 'C': [0.1, 1, 10, 100, 1000],\n",
    "'gamma': [1, 0.1, 0.01, 0.001, 0.0001],}\n",
    "grid_search = GridSearchCV(svc, param_grid, refit = True, verbose\n",
    "= 3)\n",
    "grid_search.fit(X_train, y_train)\n",
    "pred = grid_search.predict(X_val)\n",
    "print(\"Parameter terbaik grid search: {}\", grid_search.best_params_)\n",
    "\n",
    "print(classification_report(y_val, pred))\n",
    "print(\"Nilai precision:\", precision_score(y_val, pred))\n",
    "print(\"Nilai recall:\", recall_score(y_val, pred))\n",
    "print(\"Nilai F1 score:\", f1_score(y_val, pred))\n",
    "print(\"Nilai accuracy:\",accuracy_score(y_val, pred))\n",
    "\n",
    "# Confusion matrix\n",
    "print(\"\\nCONFUSION MATRIX\\n\")\n",
    "con_matrix = confusion_matrix(y_val, pred)\n",
    "ConfusionMatrixDisplay(confusion_matrix=con_matrix).plot()\n",
    "plt.show()\n",
    "\n",
    "# Cross validation\n",
    "print(\"CROSS VALIDATION\\n\")\n",
    "scores = cross_val_score(svc, X_train, y_train, cv=10)\n",
    "print(\"Menghasilkan akurasi sebesar %0.2f dengan standar deviasi sebesar %0.2f\" % (scores.mean(), scores.std()))\n"
   ]
  },
  {
   "attachments": {},
   "cell_type": "markdown",
   "metadata": {},
   "source": [
    "Menggabungkan Model dengan menggunakan teknik Soft Voting"
   ]
  },
  {
   "cell_type": "code",
   "execution_count": 41,
   "metadata": {},
   "outputs": [
    {
     "name": "stdout",
     "output_type": "stream",
     "text": [
      "              precision    recall  f1-score   support\n",
      "\n",
      "       False       0.88      0.99      0.93     45994\n",
      "        True       0.58      0.13      0.21      6991\n",
      "\n",
      "    accuracy                           0.87     52985\n",
      "   macro avg       0.73      0.56      0.57     52985\n",
      "weighted avg       0.84      0.87      0.84     52985\n",
      "\n",
      "Nilai precision: 0.5795235028976176\n",
      "Nilai recall: 0.12873694750393364\n",
      "Nilai F1 score: 0.21067415730337083\n",
      "Nilai accuracy: 0.8727186939699915\n",
      "\n",
      "CONFUSION MATRIX\n",
      "\n"
     ]
    },
    {
     "data": {
      "image/png": "[encoded data removed]",
      "text/plain": [
       "<Figure size 432x288 with 2 Axes>"
      ]
     },
     "metadata": {
      "needs_background": "light"
     },
     "output_type": "display_data"
    },
    {
     "name": "stdout",
     "output_type": "stream",
     "text": [
      "CROSS VALIDATION\n",
      "\n",
      "Menghasilakan akurasi sebesar 0.8744611087 dengan standar deviasi sebesar 0.0013873589\n"
     ]
    }
   ],
   "source": [
    "# Melakukan soft voting classifier.\n",
    "soft = VotingClassifier(estimators=[\n",
    "  ('lr', log_reg)], voting='soft')\n",
    "soft.fit(X_train, y_train)\n",
    "\n",
    "# Memprediksi hasil.\n",
    "y_pred = soft.predict(X_test)\n",
    "\n",
    "print(classification_report(y_test, y_pred))\n",
    "print(\"Nilai precision:\", precision_score(y_test, y_pred))\n",
    "print(\"Nilai recall:\", recall_score(y_test, y_pred))\n",
    "print(\"Nilai F1 score:\", f1_score(y_test, y_pred))\n",
    "print(\"Nilai accuracy:\",accuracy_score(y_test, y_pred))\n",
    "\n",
    "print(\"\\nCONFUSION MATRIX\\n\")\n",
    "con_matrix = confusion_matrix(y_test, y_pred)\n",
    "ConfusionMatrixDisplay(confusion_matrix=con_matrix).plot()\n",
    "plt.show()\n",
    "\n",
    "# Cross validation\n",
    "print(\"CROSS VALIDATION\\n\")\n",
    "scores = cross_val_score(soft, X_train, y_train, cv=10)\n",
    "print(\"Menghasilkan akurasi sebesar %0.10f dengan standar deviasi sebesar %0.10f\" % (scores.mean(), scores.std()))\n"
   ]
  },
  {
   "attachments": {},
   "cell_type": "markdown",
   "metadata": {},
   "source": [
    "Menggabungkan Model dengan menggunakan teknik Hard Voting"
   ]
  },
  {
   "cell_type": "code",
   "execution_count": 44,
   "metadata": {},
   "outputs": [
    {
     "name": "stdout",
     "output_type": "stream",
     "text": [
      "              precision    recall  f1-score   support\n",
      "\n",
      "       False       0.88      0.99      0.93     45994\n",
      "        True       0.58      0.13      0.21      6991\n",
      "\n",
      "    accuracy                           0.87     52985\n",
      "   macro avg       0.73      0.56      0.57     52985\n",
      "weighted avg       0.84      0.87      0.84     52985\n",
      "\n",
      "Nilai precision: 0.5795235028976176\n",
      "Nilai recall: 0.12873694750393364\n",
      "Nilai F1 score: 0.21067415730337083\n",
      "Nilai accuracy: 0.8727186939699915\n",
      "\n",
      "CONFUSION MATRIX\n",
      "\n"
     ]
    },
    {
     "data": {
      "image/png": "[encoded data removed]",
      "text/plain": [
       "<Figure size 432x288 with 2 Axes>"
      ]
     },
     "metadata": {
      "needs_background": "light"
     },
     "output_type": "display_data"
    },
    {
     "name": "stdout",
     "output_type": "stream",
     "text": [
      "CROSS VALIDATION\n",
      "\n",
      "Menghasilakan akurasi sebesar 0.8744611087 dengan standar deviasi sebesar 0.0013873589\n"
     ]
    }
   ],
   "source": [
    "hard = VotingClassifier(estimators=[\n",
    "  ('lr', log_reg)], voting='hard')\n",
    "hard.fit(X_train, y_train)\n",
    "\n",
    "# Memprediksi hasil.\n",
    "y_pred = hard.predict(X_test)\n",
    "\n",
    "print(classification_report(y_test, y_pred))\n",
    "print(\"Nilai precision:\", precision_score(y_test, y_pred))\n",
    "print(\"Nilai recall:\", recall_score(y_test, y_pred))\n",
    "print(\"Nilai F1 score:\", f1_score(y_test, y_pred))\n",
    "print(\"Nilai accuracy:\",accuracy_score(y_test, y_pred))\n",
    "\n",
    "print(\"\\nCONFUSION MATRIX\\n\")\n",
    "con_matrix = confusion_matrix(y_test, y_pred)\n",
    "ConfusionMatrixDisplay(confusion_matrix=con_matrix).plot()\n",
    "plt.show()\n",
    "\n",
    "# Cross validation\n",
    "print(\"CROSS VALIDATION\\n\")\n",
    "scores = cross_val_score(hard, X_train, y_train, cv=10)\n",
    "print(\"Menghasilkan akurasi sebesar %0.10f dengan standar deviasi sebesar %0.10f\" % (scores.mean(), scores.std()))\n"
   ]
  },
  {
   "attachments": {},
   "cell_type": "markdown",
   "metadata": {},
   "source": [
    "Menggabungkan Model dengan menggunakan teknik Stacking"
   ]
  },
  {
   "cell_type": "code",
   "execution_count": 45,
   "metadata": {},
   "outputs": [
    {
     "name": "stdout",
     "output_type": "stream",
     "text": [
      "              precision    recall  f1-score   support\n",
      "\n",
      "       False       0.89      0.98      0.93     45994\n",
      "        True       0.56      0.16      0.25      6991\n",
      "\n",
      "    accuracy                           0.87     52985\n",
      "   macro avg       0.72      0.57      0.59     52985\n",
      "weighted avg       0.84      0.87      0.84     52985\n",
      "\n",
      "Nilai precision: 0.5580708661417323\n",
      "Nilai recall: 0.16220855385495636\n",
      "Nilai F1 score: 0.2513576415826222\n",
      "Nilai accuracy: 0.872511088043786\n",
      "\n",
      "CONFUSION MATRIX\n",
      "\n"
     ]
    },
    {
     "data": {
      "image/png": "[encoded data removed]",
      "text/plain": [
       "<Figure size 432x288 with 2 Axes>"
      ]
     },
     "metadata": {
      "needs_background": "light"
     },
     "output_type": "display_data"
    },
    {
     "name": "stdout",
     "output_type": "stream",
     "text": [
      "CROSS VALIDATION\n",
      "\n"
     ]
    },
    {
     "name": "stderr",
     "output_type": "stream",
     "text": [
      "C:\\Users\\Steven Gianmarg\\anaconda3\\lib\\site-packages\\sklearn\\linear_model\\_logistic.py:762: ConvergenceWarning: lbfgs failed to converge (status=1):\n",
      "STOP: TOTAL NO. of ITERATIONS REACHED LIMIT.\n",
      "\n",
      "Increase the number of iterations (max_iter) or scale the data as shown in:\n",
      "    https://scikit-learn.org/stable/modules/preprocessing.html\n",
      "Please also refer to the documentation for alternative solver options:\n",
      "    https://scikit-learn.org/stable/modules/linear_model.html#logistic-regression\n",
      "  n_iter_i = _check_optimize_result(\n",
      "C:\\Users\\Steven Gianmarg\\anaconda3\\lib\\site-packages\\sklearn\\linear_model\\_logistic.py:762: ConvergenceWarning: lbfgs failed to converge (status=1):\n",
      "STOP: TOTAL NO. of ITERATIONS REACHED LIMIT.\n",
      "\n",
      "Increase the number of iterations (max_iter) or scale the data as shown in:\n",
      "    https://scikit-learn.org/stable/modules/preprocessing.html\n",
      "Please also refer to the documentation for alternative solver options:\n",
      "    https://scikit-learn.org/stable/modules/linear_model.html#logistic-regression\n",
      "  n_iter_i = _check_optimize_result(\n"
     ]
    },
    {
     "name": "stdout",
     "output_type": "stream",
     "text": [
      "Menghasilakan akurasi sebesar 0.8737081790 dengan standar deviasi sebesar 0.0016063777\n"
     ]
    }
   ],
   "source": [
    "stacking = StackingClassifier(estimators=[\n",
    "  ('lr', log_reg)], final_estimator=LogisticRegression())\n",
    "stacking.fit(X_train, y_train)\n",
    "\n",
    "# Memprediksi hasil.\n",
    "y_pred = stacking.predict(X_test)\n",
    "\n",
    "print(classification_report(y_test, y_pred))\n",
    "print(\"Nilai precision:\", precision_score(y_test, y_pred))\n",
    "print(\"Nilai recall:\", recall_score(y_test, y_pred))\n",
    "print(\"Nilai F1 score:\", f1_score(y_test, y_pred))\n",
    "print(\"Nilai accuracy:\",accuracy_score(y_test, y_pred))\n",
    "\n",
    "print(\"\\nCONFUSION MATRIX\\n\")\n",
    "con_matrix = confusion_matrix(y_test, y_pred)\n",
    "ConfusionMatrixDisplay(confusion_matrix=con_matrix).plot()\n",
    "plt.show()\n",
    "\n",
    "# Cross validation\n",
    "print(\"CROSS VALIDATION\\n\")\n",
    "scores = cross_val_score(stacking, X_train, y_train, cv=10)\n",
    "print(\"Menghasilkan akurasi sebesar %0.10f dengan standar deviasi sebesar %0.10f\" % (scores.mean(), scores.std()))\n"
   ]
  }
 ],
 "metadata": {
  "kernelspec": {
   "display_name": "Python 3",
   "language": "python",
   "name": "python3"
  },
  "language_info": {
   "codemirror_mode": {
    "name": "ipython",
    "version": 3
   },
   "file_extension": ".py",
   "mimetype": "text/x-python",
   "name": "python",
   "nbconvert_exporter": "python",
   "pygments_lexer": "ipython3",
   "version": "3.8.5"
  }
 },
 "nbformat": 4,
 "nbformat_minor": 4
}
