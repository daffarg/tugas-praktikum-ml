{
 "cells": [
  {
   "cell_type": "markdown",
   "metadata": {},
   "source": [
    "# Prediksi Hujan di Denpasar"
   ]
  },
  {
   "attachments": {},
   "cell_type": "markdown",
   "metadata": {},
   "source": [
    "Praktikum ini menggunakan _dataset_ [Denpasar Weather Data](https://www.kaggle.com/datasets/cornflake15/denpasarbalihistoricalweatherdata?select=openweatherdata-denpasar-1990-2020v0.1.csv) dengan modifikasi. _Dataset_ digunakan untuk melakukan prediksi penarikan kesimpulan kebenaran kondisi hujan pada kondisi tertentu. Hal itu diperoleh dengan meninjau `raining` (diekstrak dari `weather_main`) sebagai target. Fitur yang digunakan adalah sebagai berikut:\n",
    "- `hour` (diekstrak dari `dt_iso`)\n",
    "- `temp`\n",
    "- `temp_min`\n",
    "- `temp_max`\n",
    "- `pressure`\n",
    "- `humidity`\n",
    "- `wind_speed`\n",
    "- `wind_deg`\n",
    "\n",
    "Tujuan praktikum:\n",
    "1.   Peserta memahami rangkaian proses analitik data menggunakan pendekatan pembelajaran mesin. \n",
    "2.   Peserta memahami bahwa proses pengembangan model pembelajaran mesin juga ditentukan dari kualitas data, penanganan data, dan penentuan algoritma serta hiperparameternya; tidak cukup hanya dengan memastikan implementasi algoritma berjalan tanpa kesalahan.\n",
    "3.   Peserta mampu menginterpretasikan hasil dari evaluasi model dalam proses analitik menggunakan pendekatan pembelajaran mesin.\n",
    "\n",
    "Praktikum dilaksanakan secara berkelompok. Setiap kelompok terdiri atas 2 mahasiswa. Perhatikan bahwa terdapat berkas yang harus dikumpulkan sebelum waktu praktikum selesai (17 April 2023, pukul 10.59 WIB) dan berkas yang dikumpulkan setelah waktu praktikum selesai (17 April 2023, pukul 23.59 WIB)."
   ]
  },
  {
   "cell_type": "markdown",
   "metadata": {},
   "source": [
    "# Persiapan Data"
   ]
  },
  {
   "cell_type": "code",
   "execution_count": 5,
   "metadata": {},
   "outputs": [],
   "source": [
    "import pandas as pd\n",
    "from sklearn.model_selection import train_test_split\n",
    "from sklearn.linear_model import LogisticRegression\n",
    "from sklearn.metrics import *\n",
    "import matplotlib.pyplot as plt\n",
    "from sklearn.model_selection import cross_val_score"
   ]
  },
  {
   "cell_type": "code",
   "execution_count": 6,
   "metadata": {},
   "outputs": [
    {
     "data": {
      "text/html": [
       "<div>\n",
       "<style scoped>\n",
       "    .dataframe tbody tr th:only-of-type {\n",
       "        vertical-align: middle;\n",
       "    }\n",
       "\n",
       "    .dataframe tbody tr th {\n",
       "        vertical-align: top;\n",
       "    }\n",
       "\n",
       "    .dataframe thead th {\n",
       "        text-align: right;\n",
       "    }\n",
       "</style>\n",
       "<table border=\"1\" class=\"dataframe\">\n",
       "  <thead>\n",
       "    <tr style=\"text-align: right;\">\n",
       "      <th></th>\n",
       "      <th>hour</th>\n",
       "      <th>temp</th>\n",
       "      <th>temp_min</th>\n",
       "      <th>temp_max</th>\n",
       "      <th>pressure</th>\n",
       "      <th>humidity</th>\n",
       "      <th>wind_speed</th>\n",
       "      <th>wind_deg</th>\n",
       "      <th>raining</th>\n",
       "    </tr>\n",
       "  </thead>\n",
       "  <tbody>\n",
       "    <tr>\n",
       "      <th>0</th>\n",
       "      <td>0</td>\n",
       "      <td>25.82</td>\n",
       "      <td>25.82</td>\n",
       "      <td>25.82</td>\n",
       "      <td>1010.0</td>\n",
       "      <td>86</td>\n",
       "      <td>1.36</td>\n",
       "      <td>225</td>\n",
       "      <td>True</td>\n",
       "    </tr>\n",
       "    <tr>\n",
       "      <th>1</th>\n",
       "      <td>1</td>\n",
       "      <td>26.20</td>\n",
       "      <td>26.20</td>\n",
       "      <td>26.20</td>\n",
       "      <td>1011.0</td>\n",
       "      <td>84</td>\n",
       "      <td>2.09</td>\n",
       "      <td>247</td>\n",
       "      <td>True</td>\n",
       "    </tr>\n",
       "    <tr>\n",
       "      <th>2</th>\n",
       "      <td>2</td>\n",
       "      <td>26.45</td>\n",
       "      <td>26.45</td>\n",
       "      <td>26.45</td>\n",
       "      <td>1011.0</td>\n",
       "      <td>84</td>\n",
       "      <td>2.44</td>\n",
       "      <td>262</td>\n",
       "      <td>True</td>\n",
       "    </tr>\n",
       "    <tr>\n",
       "      <th>3</th>\n",
       "      <td>3</td>\n",
       "      <td>26.80</td>\n",
       "      <td>26.80</td>\n",
       "      <td>26.80</td>\n",
       "      <td>1011.0</td>\n",
       "      <td>82</td>\n",
       "      <td>2.29</td>\n",
       "      <td>271</td>\n",
       "      <td>True</td>\n",
       "    </tr>\n",
       "    <tr>\n",
       "      <th>4</th>\n",
       "      <td>4</td>\n",
       "      <td>27.04</td>\n",
       "      <td>27.04</td>\n",
       "      <td>27.04</td>\n",
       "      <td>1010.0</td>\n",
       "      <td>82</td>\n",
       "      <td>1.71</td>\n",
       "      <td>274</td>\n",
       "      <td>False</td>\n",
       "    </tr>\n",
       "    <tr>\n",
       "      <th>...</th>\n",
       "      <td>...</td>\n",
       "      <td>...</td>\n",
       "      <td>...</td>\n",
       "      <td>...</td>\n",
       "      <td>...</td>\n",
       "      <td>...</td>\n",
       "      <td>...</td>\n",
       "      <td>...</td>\n",
       "      <td>...</td>\n",
       "    </tr>\n",
       "    <tr>\n",
       "      <th>264919</th>\n",
       "      <td>19</td>\n",
       "      <td>27.00</td>\n",
       "      <td>27.00</td>\n",
       "      <td>27.00</td>\n",
       "      <td>1007.0</td>\n",
       "      <td>94</td>\n",
       "      <td>4.10</td>\n",
       "      <td>300</td>\n",
       "      <td>False</td>\n",
       "    </tr>\n",
       "    <tr>\n",
       "      <th>264920</th>\n",
       "      <td>20</td>\n",
       "      <td>27.00</td>\n",
       "      <td>27.00</td>\n",
       "      <td>27.00</td>\n",
       "      <td>1007.0</td>\n",
       "      <td>94</td>\n",
       "      <td>5.70</td>\n",
       "      <td>300</td>\n",
       "      <td>False</td>\n",
       "    </tr>\n",
       "    <tr>\n",
       "      <th>264921</th>\n",
       "      <td>21</td>\n",
       "      <td>28.00</td>\n",
       "      <td>28.00</td>\n",
       "      <td>28.00</td>\n",
       "      <td>1007.0</td>\n",
       "      <td>83</td>\n",
       "      <td>6.70</td>\n",
       "      <td>290</td>\n",
       "      <td>False</td>\n",
       "    </tr>\n",
       "    <tr>\n",
       "      <th>264922</th>\n",
       "      <td>22</td>\n",
       "      <td>28.00</td>\n",
       "      <td>28.00</td>\n",
       "      <td>28.00</td>\n",
       "      <td>1007.0</td>\n",
       "      <td>83</td>\n",
       "      <td>6.20</td>\n",
       "      <td>290</td>\n",
       "      <td>False</td>\n",
       "    </tr>\n",
       "    <tr>\n",
       "      <th>264923</th>\n",
       "      <td>23</td>\n",
       "      <td>28.00</td>\n",
       "      <td>28.00</td>\n",
       "      <td>28.00</td>\n",
       "      <td>1008.0</td>\n",
       "      <td>83</td>\n",
       "      <td>5.70</td>\n",
       "      <td>300</td>\n",
       "      <td>False</td>\n",
       "    </tr>\n",
       "  </tbody>\n",
       "</table>\n",
       "<p>264924 rows × 9 columns</p>\n",
       "</div>"
      ],
      "text/plain": [
       "        hour   temp  temp_min  temp_max  pressure  humidity  wind_speed  \\\n",
       "0          0  25.82     25.82     25.82    1010.0        86        1.36   \n",
       "1          1  26.20     26.20     26.20    1011.0        84        2.09   \n",
       "2          2  26.45     26.45     26.45    1011.0        84        2.44   \n",
       "3          3  26.80     26.80     26.80    1011.0        82        2.29   \n",
       "4          4  27.04     27.04     27.04    1010.0        82        1.71   \n",
       "...      ...    ...       ...       ...       ...       ...         ...   \n",
       "264919    19  27.00     27.00     27.00    1007.0        94        4.10   \n",
       "264920    20  27.00     27.00     27.00    1007.0        94        5.70   \n",
       "264921    21  28.00     28.00     28.00    1007.0        83        6.70   \n",
       "264922    22  28.00     28.00     28.00    1007.0        83        6.20   \n",
       "264923    23  28.00     28.00     28.00    1008.0        83        5.70   \n",
       "\n",
       "        wind_deg  raining  \n",
       "0            225     True  \n",
       "1            247     True  \n",
       "2            262     True  \n",
       "3            271     True  \n",
       "4            274    False  \n",
       "...          ...      ...  \n",
       "264919       300    False  \n",
       "264920       300    False  \n",
       "264921       290    False  \n",
       "264922       290    False  \n",
       "264923       300    False  \n",
       "\n",
       "[264924 rows x 9 columns]"
      ]
     },
     "execution_count": 6,
     "metadata": {},
     "output_type": "execute_result"
    }
   ],
   "source": [
    "data = pd.read_csv(\"openweatherdata-denpasar-1990-2020v0.1-simplified.csv\")\n",
    "data"
   ]
  },
  {
   "cell_type": "code",
   "execution_count": 7,
   "metadata": {
    "scrolled": false
   },
   "outputs": [],
   "source": [
    "X = data.drop(columns=\"raining\")\n",
    "y = data[\"raining\"].copy()\n",
    "\n",
    "X_train, X_test, y_train, y_test = train_test_split(X, y, test_size=0.2, random_state=123)\n",
    "X_train, X_val, y_train, y_val = train_test_split(X_train, y_train, test_size=0.2, random_state=123)\n",
    "\n",
    "df_train = pd.concat([X_train, y_train], axis=1)\n",
    "df_val = pd.concat([X_val, y_val], axis=1)\n",
    "df_test = pd.concat([X_test, y_test], axis=1)"
   ]
  },
  {
   "cell_type": "markdown",
   "metadata": {},
   "source": [
    "# Soal"
   ]
  },
  {
   "attachments": {},
   "cell_type": "markdown",
   "metadata": {},
   "source": [
    "Disediakan data yang sudah dibagi menjadi data latih (`df_train`), data validasi (`df_val`), dan data uji (`df_test`).\n",
    "\n",
    "**Bagian 1**: (batas waktu: 17 April 2023, 10.59 WIB)\n",
    "\n",
    "1. Buatlah _baseline_ dengan menggunakan model _logistic regression_.\n",
    "2. Lakukan analisis data terkait hal berikut:\n",
    "    - _duplicate value_,\n",
    "    - _missing value_,\n",
    "    - _outlier_,\n",
    "    - _balance of data_.\n",
    "3. Jelaskan rencana penanganan yang ada pada poin 2.\n",
    "4. Jelaskan teknik _encoding_ yang digunakan terhadap data yang disediakan, disertai dengan alasan.\n",
    "5. Buatlah desain eksperimen dengan menentukan hal berikut:\n",
    "    - tujuan eksperimen,\n",
    "    - variabel dependen dan independen,\n",
    "    - strategi eksperimen,\n",
    "    - skema validasi.\n",
    "    \n",
    "**Bagian 2**: (batas waktu: 17 April 2023, 23.59 WIB)\n",
    "\n",
    "6. Implementasikan strategi eksperimen dan skema validasi yang telah ditentukan pada poin 5.\n",
    "7. Berdasarkan hasil prediksi yang dihasilkan, buatlah kesimpulan analisis karakteristik kondisi hujan.\n",
    "\n",
    "---\n",
    "\n",
    "Jika terdapat perubahan jawaban pada poin 1—5 (contoh: perbedaan penanganan _outlier_), jelaskan pada laporan mengenai jawaban sebelum, jawaban sesudah, dan alasan pengubahan jawaban."
   ]
  },
  {
   "cell_type": "markdown",
   "metadata": {},
   "source": [
    "Pada sel ini, jelaskan pembagian tugas/kerja per anggota kelompok dalam eksperimen."
   ]
  },
  {
   "cell_type": "markdown",
   "metadata": {},
   "source": [
    "# _Deliverable_"
   ]
  },
  {
   "attachments": {},
   "cell_type": "markdown",
   "metadata": {},
   "source": [
    "_Deliverable_ yang akan dihasilkan adalah sebagai berikut:\n",
    "1. berkas _notebook_ dengan format nama `PraktikumIF3270_M1_NIM1_NIM2.ipynb` untuk Bagian 1;\n",
    "2. berkas _notebook_ dengan format nama `PraktikumIF3270_M2_NIM1_NIM2.ipynb` untuk Bagian 1 + Bagian 2; serta\n",
    "3. berkas laporan dengan format nama `PraktikumIF3270_NIM1_NIM2.pdf` yang mencakup hal berikut:\n",
    "    - hasil analisis data,\n",
    "    - penanganan dari hasil analisis data,\n",
    "    - justifikasi teknik-teknik yang dipilih,\n",
    "    - perubahan yang dilakukan pada jawaban poin 1—5 jika ada,\n",
    "    - desain eksperimen,\n",
    "    - hasil eksperimen.\n",
    "    - analisis dari hasil eksperimen,\n",
    "    - kesimpulan,\n",
    "    - pembagian tugas/kerja per anggota kelompok\n",
    "\n",
    "Batas waktu pengumpulan:\n",
    "- _Deliverable_ poin 1: Senin, 17 April 2023, pukul 10.59 WIB\n",
    "- _Deliverable_ poin 2: Senin, 17 April 2023, pukul 23.59 WIB\n",
    "- _Deliverable_ poin 3: Senin, 17 April 2023, pukul 23.59 WIB"
   ]
  },
  {
   "attachments": {},
   "cell_type": "markdown",
   "metadata": {},
   "source": [
    "## No 1\n",
    "Membuat baseline dengan model logistic regression"
   ]
  },
  {
   "cell_type": "code",
   "execution_count": 8,
   "metadata": {},
   "outputs": [
    {
     "name": "stdout",
     "output_type": "stream",
     "text": [
      "NILAI METRICS\n",
      "\n",
      "Nilai Precision: 0.5940438871473355\n",
      "Nilai Recall: 0.13542969447918526\n",
      "Nilai accuracy: 0.8736198924223837\n",
      "Nilai F1 Score: 0.22057325767495994\n",
      "\n",
      "CONFUSION MATRIX\n",
      "\n"
     ]
    },
    {
     "data": {
      "image/png": "[encoded data removed]",
      "text/plain": [
       "<Figure size 432x288 with 2 Axes>"
      ]
     },
     "metadata": {
      "needs_background": "light"
     },
     "output_type": "display_data"
    },
    {
     "name": "stdout",
     "output_type": "stream",
     "text": [
      "CROSS VALIDATION\n",
      "\n",
      "Menghasilakan akurasi sebesar 0.87 dengan standar deviasi sebesar 0.00\n"
     ]
    }
   ],
   "source": [
    "log_reg = LogisticRegression(random_state=0).fit(X_train, y_train)\n",
    "\n",
    "pred = log_reg.predict(X_val)\n",
    "\n",
    "# Nilai metrics\n",
    "print(\"NILAI METRICS\\n\")\n",
    "print(f\"Nilai Precision: {precision_score(y_val, pred)}\")\n",
    "print(f\"Nilai Recall: {recall_score(y_val, pred)}\")\n",
    "print(f\"Nilai accuracy: {accuracy_score(y_val, pred)}\")\n",
    "print(f\"Nilai F1 Score: {f1_score(y_val, pred)}\")\n",
    "\n",
    "# Confusion matrix\n",
    "print(\"\\nCONFUSION MATRIX\\n\")\n",
    "con_matrix = confusion_matrix(y_val, pred)\n",
    "ConfusionMatrixDisplay(confusion_matrix=con_matrix).plot()\n",
    "plt.show()\n",
    "\n",
    "# Cross validation\n",
    "print(\"CROSS VALIDATION\\n\")\n",
    "scores = cross_val_score(log_reg, X_train, y_train, cv=10)\n",
    "print(\"Menghasilakan akurasi sebesar %0.2f dengan standar deviasi sebesar %0.2f\" % (scores.mean(), scores.std()))\n"
   ]
  },
  {
   "attachments": {},
   "cell_type": "markdown",
   "metadata": {},
   "source": [
    "## No 2\n",
    "### Analisis Data"
   ]
  },
  {
   "attachments": {},
   "cell_type": "markdown",
   "metadata": {},
   "source": [
    "#### Duplicate Value"
   ]
  },
  {
   "cell_type": "code",
   "execution_count": 9,
   "metadata": {},
   "outputs": [
    {
     "name": "stdout",
     "output_type": "stream",
     "text": [
      "        hour   temp  temp_min  temp_max  pressure  humidity  wind_speed  \\\n",
      "8773       0  26.68     26.68     26.68    1009.0        84        3.07   \n",
      "8940      23  26.60     26.60     26.60    1009.0        88        6.20   \n",
      "8941       0  26.60     26.60     26.60    1009.0        88        6.20   \n",
      "8942       1  26.60     26.60     26.60    1009.0        88        6.20   \n",
      "17543      0  26.28     26.28     26.28    1011.0        85        0.49   \n",
      "...      ...    ...       ...       ...       ...       ...         ...   \n",
      "264664     9  30.07     30.00     30.20    1007.0        79        3.10   \n",
      "264744    12  27.90     27.70     28.00    1010.0        83        1.00   \n",
      "264756     0  28.00     28.00     28.00    1011.0        83        1.00   \n",
      "264784     4  31.00     31.00     31.00    1011.0        70        4.10   \n",
      "264881     5  30.00     30.00     30.00    1008.0        74        5.10   \n",
      "\n",
      "        wind_deg  raining  \n",
      "8773         287     True  \n",
      "8940         300    False  \n",
      "8941         300    False  \n",
      "8942         300    False  \n",
      "17543         42    False  \n",
      "...          ...      ...  \n",
      "264664       260    False  \n",
      "264744         0    False  \n",
      "264756         0    False  \n",
      "264784       260    False  \n",
      "264881       270    False  \n",
      "\n",
      "[7253 rows x 9 columns]\n",
      "\n",
      "Jumlah data duplicated: 7253\n",
      "Persentase data yang duplicate adalah sebesar 2.74 %\n"
     ]
    }
   ],
   "source": [
    "print(data[data.duplicated()])\n",
    "print(f\"\\nJumlah data duplicated: {data.duplicated().sum()}\")\n",
    "percentage = (data.duplicated().sum() / len(data)) * 100\n",
    "print(\"Persentase data yang duplicate adalah sebesar {:.2f} %\".format(percentage))"
   ]
  },
  {
   "attachments": {},
   "cell_type": "markdown",
   "metadata": {},
   "source": [
    "Terlihat pada hasil yang tampil di atas, terdapat data yang duplicate sebanyak 7253 data. Persentase data yang duplicate dari keseluruhan data adalah sebesar 2.74 %. Hal ini relatif cukup kecil."
   ]
  },
  {
   "attachments": {},
   "cell_type": "markdown",
   "metadata": {},
   "source": [
    "#### Missing Value"
   ]
  },
  {
   "cell_type": "code",
   "execution_count": 10,
   "metadata": {},
   "outputs": [
    {
     "data": {
      "text/plain": [
       "hour          0\n",
       "temp          0\n",
       "temp_min      0\n",
       "temp_max      0\n",
       "pressure      0\n",
       "humidity      0\n",
       "wind_speed    0\n",
       "wind_deg      0\n",
       "raining       0\n",
       "dtype: int64"
      ]
     },
     "execution_count": 10,
     "metadata": {},
     "output_type": "execute_result"
    }
   ],
   "source": [
    "data.isna().sum()"
   ]
  },
  {
   "attachments": {},
   "cell_type": "markdown",
   "metadata": {},
   "source": [
    "Terlihat pada hasil yang ditampilkan di atas, tidak terdapat kolom yang mengalami missing value. Oleh karena itu, penanganan missing value tidak diperlukan."
   ]
  },
  {
   "attachments": {},
   "cell_type": "markdown",
   "metadata": {},
   "source": [
    "#### Outlier"
   ]
  },
  {
   "cell_type": "code",
   "execution_count": 14,
   "metadata": {},
   "outputs": [
    {
     "name": "stdout",
     "output_type": "stream",
     "text": [
      "Outliers in hour\n",
      "[]\n",
      "Number of outliers: 0\n",
      "\n",
      "\n",
      "Outliers in temp\n",
      "[20.9  20.9  20.9  ... 33.7  32.66 34.  ]\n",
      "Number of outliers: 1458\n",
      "\n",
      "\n",
      "Outliers in temp_min\n",
      "[32.4 32.4 32.4 ... 33.2 33.2 34. ]\n",
      "Number of outliers: 1716\n",
      "\n",
      "\n",
      "Outliers in temp_max\n",
      "[20.9 20.9 20.9 21.2 21.2 21.2 20.5 20.5 20.5 33.6 33.6 33.6 33.8 33.8\n",
      " 33.8  3.   3.  34.1 34.1 34.1 33.8 33.8 34.2 34.2 34.2 21.  21.  21.\n",
      " 21.4 21.4 21.4 21.  21.  21.  21.  21.  20.  21.  20.  21.  21.  21.\n",
      " 20.  21.  21.  21.  21.  21.  20.2 19.  19.  21.  21.  21.  21.  21.\n",
      " 21.2 20.  20.2 19.  19.  21.  21.  21.  21.4 21.  20.  20.  21.  20.\n",
      " 20.  20.2 20.  21.  21.  20.9 21.  20.  21.  21.  20.  21.  21.  21.\n",
      " 34.  34.  20.7 21.  21.2 21.2 20.  20.  20.  20.  20.  19.  19.  21.\n",
      " 21.  21.  21.  21.  20.8 20.  21.  21.  20.8 20.8 21.  21.1 21.1 21.\n",
      " 21.  20.  21.  20.  34.2 21.  21.  20.  21.4 21.  20.  21.  21.  20.\n",
      " 21.  21.  21.2 21.2 21.2 21.2 21.  21.  21.2 21.2 21.  21.  21.  21.\n",
      " 21.  21.  20.8 19.  19.  21.  20.4 19.  21.  20.8 20.  21.  21.  34.\n",
      " 33.8 33.6 33.6 33.6 33.6 33.6 34.  34.6 34.  35.  34.  34.  34.2 35.\n",
      " 34.2 34.  34.  33.9 34.  34.2 34.  34.  34.2 34.  34.3 34.  33.6 33.8\n",
      " 33.8 34.  34.  34.  33.6 33.8 34.  34.  34.  34.  34.2 34.  34.4 34.\n",
      " 34.  34.2 34.  33.7 34.  34.  34.  34.  34.  33.6 34.  33.6 34.  34.\n",
      " 33.8 34.  34.  34.  34.  35.  34.  34.  20.  34.  21.  21.  17.  17.\n",
      " 21.2 21.2 20.4 20.  21.1 21.1 21.1 20.  21.  20.8 20.  21.4 21.4 21.4\n",
      " 21.  21.  21.  20.6 20.6 20.  20.  19.6 19.6 19.  19.  21.  19.4 21.2\n",
      " 21.  21.  36.  21.  21.4 21.  21.  21.  20.8 20.8 20.8 20.8 20.8 21.\n",
      " 21.  21.3 21.3 21.  20.  21.  21.4 21.  21.  20.  20.  20.  21.  20.8\n",
      " 20.8 19.8 19.  19.  21.  21.  21.  21.2 21.2 21.2 21.2 21.2 21.4 21.4\n",
      " 21.4 20.6 20.  20.  21.  21.  21.  21.  21.4 21.  21.  21.  20.4 20.\n",
      " 21.  21.2 21.2 21.2 21.  21.  19.4 19.  20.  20.8 21.  21.  34.  34.\n",
      " 34.  34.  34.  20.6 20.6 35.4 21.2 21.  21.  21.1 21.1 19.9 19.  19.\n",
      " 20.  20.  21.  20.  21.  21.  21.2 21.  21.4 21.  20.8 21.  20.8 20.\n",
      " 20.  21.3 21.  21.  20.  20.  21.2 21.4 21.4 20.2 19.  19.  21.  21.\n",
      " 21.  21.  21.  19.4 20.  21.  21.  39.  20.2 20.  21.  21.  20.  20.6\n",
      " 20.  21.  21.  21.  21.  21.  21.  21.  21.2 21.2 21.  21.  21.1 21.\n",
      " 21.  21.  21.  21.1 21.1 21.1 21.  21.  21.  20.8 20.8 21.  21.2 21.2\n",
      " 21.2 20.  19.4 19.4 21.4 20.  19.5 20.  21.  20.5 19.  18.7 19.  20.8\n",
      " 21.4 21.4 21.4 19.  19.  19.  20.  21.4 21.4 21.4 34.  34.  34.  35.\n",
      " 35.  34.2 34.  20.4 20.4 21.  21.4 21.4 21.  20.8 19.  19.  19.  21.\n",
      " 20.9 20.  19.  18.7 20.7 20.7 21.  21.  21.  21.4 21.4 20.  19.6 20.\n",
      " 20.  19.9 20.  21.  20.6 21.  20.6 20.6 34.  21.4 21.4 19.8 20.5 21.4\n",
      " 36.2 36.2 36.2 36.2 21.4 21.4 21.4 21.2 21.2 21.2 39.8 39.8 39.8 21.4\n",
      " 21.4 21.4 21.  20.3 20.3 21.  21.  21.  21.  20.5 21.  20.5 21.3 21.3\n",
      " 21.3 21.2 21.2 21.3 21.  21.  20.7 21.4 21.4 21.1 21.1 21.  21.  21.\n",
      " 21.1 21.1 21.  21.  21.  34.  34.  21.  21.  21.  21.  21.  34.  34.\n",
      " 34.  34.  34.  34.4 34.4 34.4 34.  34.  34.  34.  34.  34.  34.  34.\n",
      " 34. ]\n",
      "Number of outliers: 547\n",
      "\n",
      "\n",
      "Outliers in pressure\n",
      "[1019.9 1019.9 1019.9 ... 1003.  1003.  1003. ]\n",
      "Number of outliers: 1067\n",
      "\n",
      "\n",
      "Outliers in humidity\n",
      "[51 51 51 50 50 50 52 52 52 50 50 52 52 52 49 49 48 52 52 46 52 49 51 51\n",
      " 52 51 51 52 52 46 52 52 52 45 46 52 51 52 47 52 48 48 51 51 49 51 52 52\n",
      " 45 43 41 35 35 50 50 52 52 50 49 52 52 49 49 52 52 49 51 46 46 51 52 52\n",
      " 47 49 49 52 49 52 52 52 52 52 52 49 49 49 51 51 51 52 50 52 51 48 48 51\n",
      " 48 51 51 51 48 51 51 51 51 47 51 52 52 52 52 51 51 52 52 52 52 52 49 52\n",
      " 52 52 52 52 52 52 52 52 52 51 51 51 52 51 52 47 52 51 52 51 51 50 51 52\n",
      " 40 51 47 51 51 49 42 37 14 35 51 51 51 28 28 28 19 39 39 39 52 52 52 51\n",
      " 51 51 50 50 50 51 35 51 51 51 51 51 51 46 45 51 52 52 52 52 52 52 52 49\n",
      " 41 49 52 51 51 48 45 48 51 51 51 52 52 48 48 48 52 51 47 41 43 51 52 51\n",
      " 51 51 51 52 52 52 52 52 52 52 49 52 49 52 52]\n",
      "Number of outliers: 231\n",
      "\n",
      "\n",
      "Outliers in wind_speed\n",
      "[ 9.23  9.29  8.74 ... 10.8  10.3   8.7 ]\n",
      "Number of outliers: 3439\n",
      "\n",
      "\n",
      "Outliers in wind_deg\n",
      "[]\n",
      "Number of outliers: 0\n",
      "\n",
      "\n"
     ]
    }
   ],
   "source": [
    "numeric_cols = data.select_dtypes(include=\"number\").columns\n",
    "for column in numeric_cols:\n",
    "    # Menghitung IQR\n",
    "    Q1 = data[column].quantile(0.25)\n",
    "    Q3 = data[column].quantile(0.75)\n",
    "    IQR = Q3 - Q1\n",
    "    \n",
    "    # Menghitung lower dan upper bounds\n",
    "    lower_bound = Q1 - 1.5 * IQR\n",
    "    upper_bound = Q3 + 1.5 * IQR\n",
    "    \n",
    "    # Identifikasi outlier\n",
    "    outliers = data[(data[column] < lower_bound) | (data[column] > upper_bound)]\n",
    "    \n",
    "    # Menampilkan outlier\n",
    "    print(\"Outliers in\", column)\n",
    "    print(outliers[column].values)\n",
    "    print(\"Number of outliers:\", len(outliers))\n",
    "    print(\"\\n\")"
   ]
  },
  {
   "attachments": {},
   "cell_type": "markdown",
   "metadata": {},
   "source": [
    "Terlihat pada hasil yang ditampilkan di atas, jumlah outlier dari masing-masing feature adalah sebagai berikut:\n",
    "1. hour = 0\n",
    "2. temp = 1458\n",
    "3. temp_min = 1716\n",
    "4. temp_max = 547\n",
    "5. pressure = 1067\n",
    "6. humidity = 231\n",
    "7. wind_speed = 3439\n",
    "8. wind_deg = 0\n",
    "\n",
    "Pada data di atas, hanya feature hour dan wind_deg yang tidak memiliki outlier. Feature lain mempunyai outlier, tetapi jumlahnya sangat kecil dibandingkan dengan jumlah data keseluruhan."
   ]
  },
  {
   "attachments": {},
   "cell_type": "markdown",
   "metadata": {},
   "source": [
    "### No 3\n",
    "\n",
    "- Duplicate value\n",
    "\n",
    "Penghapusan outlier: Data outlier dapat dihapus dari dataset untuk mengurangi efeknya pada analisis. Namun, teknik ini dapat mengurangi jumlah data yang tersedia dan mengurangi akurasi model.\n",
    "\n",
    "Transformasi data: Data outlier dapat ditransformasi ke nilai yang lebih sesuai dengan data lain dalam dataset. Contohnya, dengan menggunakan transformasi logaritmik atau inverse.\n",
    "\n",
    "Imputasi data: Data outlier dapat diimputasi dengan menggunakan metode seperti mean atau median. Namun, teknik ini dapat mempengaruhi distribusi data dan mengurangi akurasi model.\n",
    "\n",
    "Penggunaan model tahan outlier: Model tahan outlier seperti robust regression dapat digunakan untuk meminimalkan efek outlier pada analisis.\n",
    "\n",
    "- Missing Value\n",
    "\n",
    "Pada dataset ini, sama sekali tidak terdapat missing values pada dataset ini, sehingga tidak perlu dilakukan aksi apapun\n",
    "\n",
    "- Outlier\n",
    "\n",
    "Berdasarkan data diatas, terdapat fitur dengan outliers 3439 dari 260ribuan, yang mana hanya sekitar 1-2% dari dataset. \n",
    "Berdasrkan hal tersebut, kami memeriksa kembali dari korelasi yang didapatkan nilai yang tidak terlalu signifikan, sehingga kami merasa tidak perlu ada penanganan untuk kasus ini.\n",
    "\n",
    "Namun  dapat dipertimbangkan untuk menggunakan teknik transformasi data atau tidak melakukan penanganan outliers sama sekali, tergantung pada tujuan analisis dan model yang ingin dihasilkan.\n",
    "\n",
    "- Balance of Data\n",
    "\n",
    "Pada kasus ini terjadi ketidakseimbangan dataset (imbalance dataset) pada kolom target ini tidak terpenuhi, maka dapat mempengaruhi akurasi model yang dihasilkan. Oleh karena itu, untuk menangani ketidakseimbangan data pada kolom target, beberapa rencana penanganan yang dapat dilakukan adalah sebagai berikut:\n",
    "1. Oversampling\n",
    "2.  Undersampling\n",
    "3. Kombinasi oversampling dan undersampling\n"
   ]
  },
  {
   "attachments": {},
   "cell_type": "markdown",
   "metadata": {},
   "source": [
    "### No 4\n",
    "Teknik _encoding_ yang digunakan terhadap data yang disediakan"
   ]
  },
  {
   "cell_type": "code",
   "execution_count": 19,
   "metadata": {},
   "outputs": [
    {
     "data": {
      "text/plain": [
       "hour            int64\n",
       "temp          float64\n",
       "temp_min      float64\n",
       "temp_max      float64\n",
       "pressure      float64\n",
       "humidity        int64\n",
       "wind_speed    float64\n",
       "wind_deg        int64\n",
       "raining          bool\n",
       "dtype: object"
      ]
     },
     "execution_count": 19,
     "metadata": {},
     "output_type": "execute_result"
    }
   ],
   "source": [
    "data.dtypes"
   ]
  },
  {
   "attachments": {},
   "cell_type": "markdown",
   "metadata": {},
   "source": [
    "Pada hasil di atas, feature-feature yang ada memiliki berbagai macam tipe data. Namun, menurut kami, pada dataset ini encoding hanya diperlukan pada kelas target \"Raining\". Kelas target \"Raining\" yang berjenis binary akan diencoding menjadi tipe data numerik diskrit dengan value 0 untuk False dan 1 untuk True."
   ]
  },
  {
   "attachments": {},
   "cell_type": "markdown",
   "metadata": {},
   "source": [
    "### No 5\n",
    "Desain Eksperimen\n",
    "\n",
    "## Tujuan Eksperimen\n",
    "Memprediksi terjadinya hujan berdasarkan faktor-faktor seperti temperatur, kelembapan, dan kecepatan angin di Denpasar, Bali.\n",
    "\n",
    "## Variabel Dependen dan Independen\n",
    "- Dependen: Raining\n",
    "- Independen: temp, temp_min, temp_max, pressure, humidity, wind_speed, wind_deg\n",
    "\n",
    "## Strategi Eksperimen\n",
    "1. Melakukan penanganan terhadap duplicate value, missing value, outlier, balance of data, dan encoding\n",
    "2. Menentukan metrics eksperimen\n",
    "3. Membuat model Logistic Regression sebagai baseline dan melakukan prediksi dari model tersebut\n",
    "4. Melakukan evaluasi model baseline dan menampilkan confusion matrix\n",
    "5. Melakukan pembelajaran dengan model lain, yaitu Support Vector Machine (SVM)\n",
    "6. Melakukan hyperparameter tuning model dengan menggunakan Grid Search\n",
    "7. Melakukan evaluasi hasil hyperparameter tuning model\n",
    "8. Melakukan oversampling pada kelas minoritas dan undersampling pada kelas mayoritas untuk penanganan\n",
    "9. Melakukan pembelajaran dengan model baseline menggunakan data pada nomor 8\n",
    "10. Melakukan evaluasi hasil pembelajaran pada nomor 9\n",
    "11. Menggabungkan beberapa model dengan menggunakan teknik Soft Voting, Hard Voting, dan Stacking\n",
    "12. Melakukan evaluasi dari hasil strategi nomor 11\n",
    "\n",
    "## Skema Validasi\n",
    "Skema validasi yang digunakan adalah skema 10-fold Cross Validation dari dataset yang ada."
   ]
  }
 ],
 "metadata": {
  "kernelspec": {
   "display_name": "Python 3 (ipykernel)",
   "language": "python",
   "name": "python3"
  },
  "language_info": {
   "codemirror_mode": {
    "name": "ipython",
    "version": 3
   },
   "file_extension": ".py",
   "mimetype": "text/x-python",
   "name": "python",
   "nbconvert_exporter": "python",
   "pygments_lexer": "ipython3",
   "version": "3.9.6"
  }
 },
 "nbformat": 4,
 "nbformat_minor": 4
}
